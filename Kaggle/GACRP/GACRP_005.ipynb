{
 "cells": [
  {
   "cell_type": "code",
   "execution_count": 1,
   "metadata": {},
   "outputs": [
    {
     "data": {
      "text/html": [
       "<style>.container { width:100% !important; }</style>"
      ],
      "text/plain": [
       "<IPython.core.display.HTML object>"
      ]
     },
     "metadata": {},
     "output_type": "display_data"
    }
   ],
   "source": [
    "import numpy as np\n",
    "import pandas as pd\n",
    "import json\n",
    "from pandas.io.json import json_normalize\n",
    "import time\n",
    "from datetime import datetime\n",
    "import gc\n",
    "import psutil\n",
    "from sklearn.preprocessing import LabelEncoder\n",
    "import matplotlib.pyplot as plt\n",
    "%matplotlib inline\n",
    "from plotly.offline import init_notebook_mode, iplot\n",
    "import plotly.graph_objs as go\n",
    "from plotly import tools\n",
    "\n",
    "from IPython.core.display import display, HTML\n",
    "display(HTML(\"<style>.container { width:100% !important; }</style>\"))\n",
    "from IPython.core.interactiveshell import InteractiveShell\n",
    "InteractiveShell.ast_node_interactivity = \"all\"\n",
    "pd.set_option('display.max_rows', 500)\n",
    "pd.set_option('display.max_columns', 500)"
   ]
  },
  {
   "cell_type": "code",
   "execution_count": 2,
   "metadata": {},
   "outputs": [],
   "source": [
    "train = pd.read_csv(\"input/flattened/train.csv\", low_memory=False)\n",
    "test = pd.read_csv(\"input/flattened/test.csv\", low_memory=False)"
   ]
  },
  {
   "cell_type": "code",
   "execution_count": 3,
   "metadata": {},
   "outputs": [],
   "source": [
    "def feature_summary(df_fa):\n",
    "    print('DataFrame shape')\n",
    "    print('rows:',df_fa.shape[0])\n",
    "    print('cols:',df_fa.shape[1])\n",
    "    col_list=['Null','Unique_Count','Data_type','Sample_values']\n",
    "    df=pd.DataFrame(index=df_fa.columns,columns=col_list)\n",
    "    df['Null']=list([len(df_fa[col][df_fa[col].isnull()]) for i,col in enumerate(df_fa.columns)])\n",
    "    df['Unique_Count']=list([len(df_fa[col].unique()) for i,col in enumerate(df_fa.columns)])\n",
    "    df['Data_type']=list([df_fa[col].dtype for i,col in enumerate(df_fa.columns)])\n",
    "    for i,col in enumerate(df_fa.columns):\n",
    "         df.at[col,'Sample_values']=list(df_fa[col].unique())\n",
    "           \n",
    "    return(df.fillna('-'))"
   ]
  },
  {
   "cell_type": "code",
   "execution_count": 4,
   "metadata": {},
   "outputs": [],
   "source": [
    "to_drop = [ \"socialEngagementType\", \n",
    "          \"device.browserSize\",\n",
    "          \"device.browserVersion\",\n",
    "          \"device.flashVersion\",\n",
    "          \"device.language\",\n",
    "          \"device.mobileDeviceBranding\",\n",
    "          \"device.mobileDeviceInfo\",\n",
    "          \"device.mobileDeviceMarketingName\",\n",
    "          \"device.mobileDeviceModel\",\n",
    "          \"device.mobileInputSelector\",\n",
    "          \"device.operatingSystemVersion\",\n",
    "          \"device.screenColors\",\n",
    "          \"device.screenResolution\",\n",
    "          \"geoNetwork.cityId\",\n",
    "          \"geoNetwork.latitude\",\n",
    "          \"geoNetwork.longitude\",\n",
    "          \"geoNetwork.networkLocation\",\n",
    "          \"totals.visits\",\n",
    "          \"trafficSource.adwordsClickInfo.criteriaParameters\",\n",
    "          ]\n",
    "train.drop(to_drop, axis=1, inplace=True)\n",
    "train.drop(\"trafficSource.campaignCode\", axis=1, inplace=True)\n",
    "test.drop(to_drop, axis=1, inplace=True)"
   ]
  },
  {
   "cell_type": "code",
   "execution_count": 5,
   "metadata": {},
   "outputs": [],
   "source": [
    "train.visitStartTime = pd.to_datetime(train.visitStartTime, unit='s')\n",
    "test.visitStartTime = pd.to_datetime(test.visitStartTime, unit='s')\n",
    "train[\"date\"] = train.visitStartTime\n",
    "test[\"date\"] = test.visitStartTime"
   ]
  },
  {
   "cell_type": "code",
   "execution_count": 6,
   "metadata": {},
   "outputs": [],
   "source": [
    "train.set_index(\"visitStartTime\", inplace=True)\n",
    "test.set_index(\"visitStartTime\", inplace=True)\n",
    "train.sort_index(inplace=True)\n",
    "test.sort_index(inplace=True)"
   ]
  },
  {
   "cell_type": "code",
   "execution_count": 7,
   "metadata": {},
   "outputs": [],
   "source": [
    "for col in ['trafficSource.keyword',\n",
    "            'trafficSource.referralPath',\n",
    "            'trafficSource.adwordsClickInfo.gclId',\n",
    "            'trafficSource.adwordsClickInfo.adNetworkType',\n",
    "            'trafficSource.adwordsClickInfo.page',\n",
    "            'trafficSource.adwordsClickInfo.slot',\n",
    "            'trafficSource.adContent']:\n",
    "    train[col].fillna('unknown', inplace=True)\n",
    "    test[col].fillna('unknown', inplace=True)\n",
    "\n",
    "train['totals.pageviews'].fillna(1, inplace=True)\n",
    "train['totals.newVisits'].fillna(0, inplace=True)\n",
    "train['totals.bounces'].fillna(0, inplace=True)\n",
    "train[\"totals.transactionRevenue\"].fillna(0.0, inplace=True)\n",
    "train['totals.pageviews'] = train['totals.pageviews'].astype(int)\n",
    "train['totals.newVisits'] = train['totals.newVisits'].astype(int)\n",
    "train['totals.bounces'] = train['totals.bounces'].astype(int)\n",
    "train['trafficSource.adwordsClickInfo.isVideoAd'].fillna('True', inplace=True)\n",
    "train['trafficSource.isTrueDirect'].fillna(False, inplace=True)\n",
    "\n",
    "test['totals.pageviews'].fillna(1, inplace=True)\n",
    "test['totals.newVisits'].fillna(0, inplace=True)\n",
    "test['totals.bounces'].fillna(0, inplace=True)\n",
    "test['totals.pageviews'] = test['totals.pageviews'].astype(int)\n",
    "test['totals.newVisits'] = test['totals.newVisits'].astype(int)\n",
    "test['trafficSource.adwordsClickInfo.isVideoAd'].fillna('True', inplace=True)\n",
    "test['totals.bounces'] = test['totals.bounces'].astype(int)\n",
    "\n",
    "test['trafficSource.isTrueDirect'].fillna(False, inplace=True)"
   ]
  },
  {
   "cell_type": "code",
   "execution_count": 8,
   "metadata": {},
   "outputs": [
    {
     "name": "stdout",
     "output_type": "stream",
     "text": [
      "DataFrame shape\n",
      "rows: 903653\n",
      "cols: 34\n"
     ]
    },
    {
     "data": {
      "text/html": [
       "<div>\n",
       "<style scoped>\n",
       "    .dataframe tbody tr th:only-of-type {\n",
       "        vertical-align: middle;\n",
       "    }\n",
       "\n",
       "    .dataframe tbody tr th {\n",
       "        vertical-align: top;\n",
       "    }\n",
       "\n",
       "    .dataframe thead th {\n",
       "        text-align: right;\n",
       "    }\n",
       "</style>\n",
       "<table border=\"1\" class=\"dataframe\">\n",
       "  <thead>\n",
       "    <tr style=\"text-align: right;\">\n",
       "      <th></th>\n",
       "      <th>Null</th>\n",
       "      <th>Unique_Count</th>\n",
       "      <th>Data_type</th>\n",
       "      <th>Sample_values</th>\n",
       "    </tr>\n",
       "  </thead>\n",
       "  <tbody>\n",
       "    <tr>\n",
       "      <th>channelGrouping</th>\n",
       "      <td>0</td>\n",
       "      <td>8</td>\n",
       "      <td>object</td>\n",
       "      <td>[Direct, Social, Organic Search, Referral, Dis...</td>\n",
       "    </tr>\n",
       "    <tr>\n",
       "      <th>date</th>\n",
       "      <td>0</td>\n",
       "      <td>887159</td>\n",
       "      <td>datetime64[ns]</td>\n",
       "      <td>[2016-08-01T07:00:12.000000000, 2016-08-01T07:...</td>\n",
       "    </tr>\n",
       "    <tr>\n",
       "      <th>fullVisitorId</th>\n",
       "      <td>0</td>\n",
       "      <td>714167</td>\n",
       "      <td>object</td>\n",
       "      <td>[0423043652415339154, 8294721032567046680, 771...</td>\n",
       "    </tr>\n",
       "    <tr>\n",
       "      <th>sessionId</th>\n",
       "      <td>0</td>\n",
       "      <td>902755</td>\n",
       "      <td>object</td>\n",
       "      <td>[0423043652415339154_1470034812, 8294721032567...</td>\n",
       "    </tr>\n",
       "    <tr>\n",
       "      <th>visitId</th>\n",
       "      <td>0</td>\n",
       "      <td>886303</td>\n",
       "      <td>int64</td>\n",
       "      <td>[1470034812, 1470035066, 1470035081, 147003516...</td>\n",
       "    </tr>\n",
       "    <tr>\n",
       "      <th>visitNumber</th>\n",
       "      <td>0</td>\n",
       "      <td>384</td>\n",
       "      <td>int64</td>\n",
       "      <td>[3, 1, 5, 2, 7, 6, 96, 16, 12, 4, 9, 22, 10, 2...</td>\n",
       "    </tr>\n",
       "    <tr>\n",
       "      <th>device.browser</th>\n",
       "      <td>0</td>\n",
       "      <td>54</td>\n",
       "      <td>object</td>\n",
       "      <td>[Safari, Chrome, Amazon Silk, Firefox, Interne...</td>\n",
       "    </tr>\n",
       "    <tr>\n",
       "      <th>device.deviceCategory</th>\n",
       "      <td>0</td>\n",
       "      <td>3</td>\n",
       "      <td>object</td>\n",
       "      <td>[mobile, desktop, tablet]</td>\n",
       "    </tr>\n",
       "    <tr>\n",
       "      <th>device.isMobile</th>\n",
       "      <td>0</td>\n",
       "      <td>2</td>\n",
       "      <td>bool</td>\n",
       "      <td>[True, False]</td>\n",
       "    </tr>\n",
       "    <tr>\n",
       "      <th>device.operatingSystem</th>\n",
       "      <td>0</td>\n",
       "      <td>20</td>\n",
       "      <td>object</td>\n",
       "      <td>[iOS, Windows, Android, Macintosh, Linux, Chro...</td>\n",
       "    </tr>\n",
       "    <tr>\n",
       "      <th>geoNetwork.city</th>\n",
       "      <td>0</td>\n",
       "      <td>649</td>\n",
       "      <td>object</td>\n",
       "      <td>[not available in demo dataset, Quezon City, S...</td>\n",
       "    </tr>\n",
       "    <tr>\n",
       "      <th>geoNetwork.continent</th>\n",
       "      <td>0</td>\n",
       "      <td>6</td>\n",
       "      <td>object</td>\n",
       "      <td>[Americas, Asia, Europe, Africa, Oceania, (not...</td>\n",
       "    </tr>\n",
       "    <tr>\n",
       "      <th>geoNetwork.country</th>\n",
       "      <td>0</td>\n",
       "      <td>222</td>\n",
       "      <td>object</td>\n",
       "      <td>[United States, Thailand, Canada, Philippines,...</td>\n",
       "    </tr>\n",
       "    <tr>\n",
       "      <th>geoNetwork.metro</th>\n",
       "      <td>0</td>\n",
       "      <td>94</td>\n",
       "      <td>object</td>\n",
       "      <td>[not available in demo dataset, (not set), San...</td>\n",
       "    </tr>\n",
       "    <tr>\n",
       "      <th>geoNetwork.networkDomain</th>\n",
       "      <td>0</td>\n",
       "      <td>28064</td>\n",
       "      <td>object</td>\n",
       "      <td>[(not set), unknown.unknown, bell.ca, pldt.net...</td>\n",
       "    </tr>\n",
       "    <tr>\n",
       "      <th>geoNetwork.region</th>\n",
       "      <td>0</td>\n",
       "      <td>376</td>\n",
       "      <td>object</td>\n",
       "      <td>[not available in demo dataset, Metro Manila, ...</td>\n",
       "    </tr>\n",
       "    <tr>\n",
       "      <th>geoNetwork.subContinent</th>\n",
       "      <td>0</td>\n",
       "      <td>23</td>\n",
       "      <td>object</td>\n",
       "      <td>[Northern America, Southeast Asia, Northern Eu...</td>\n",
       "    </tr>\n",
       "    <tr>\n",
       "      <th>totals.bounces</th>\n",
       "      <td>0</td>\n",
       "      <td>2</td>\n",
       "      <td>int32</td>\n",
       "      <td>[1, 0]</td>\n",
       "    </tr>\n",
       "    <tr>\n",
       "      <th>totals.hits</th>\n",
       "      <td>0</td>\n",
       "      <td>274</td>\n",
       "      <td>int64</td>\n",
       "      <td>[1, 5, 9, 7, 53, 2, 8, 33, 12, 3, 19, 4, 21, 1...</td>\n",
       "    </tr>\n",
       "    <tr>\n",
       "      <th>totals.newVisits</th>\n",
       "      <td>0</td>\n",
       "      <td>2</td>\n",
       "      <td>int32</td>\n",
       "      <td>[0, 1]</td>\n",
       "    </tr>\n",
       "    <tr>\n",
       "      <th>totals.pageviews</th>\n",
       "      <td>0</td>\n",
       "      <td>213</td>\n",
       "      <td>int32</td>\n",
       "      <td>[1, 5, 7, 36, 2, 6, 20, 8, 3, 14, 19, 9, 12, 1...</td>\n",
       "    </tr>\n",
       "    <tr>\n",
       "      <th>totals.transactionRevenue</th>\n",
       "      <td>0</td>\n",
       "      <td>5333</td>\n",
       "      <td>float64</td>\n",
       "      <td>[0.0, 1589400000.0, 8990000.0, 27190000.0, 717...</td>\n",
       "    </tr>\n",
       "    <tr>\n",
       "      <th>trafficSource.adContent</th>\n",
       "      <td>0</td>\n",
       "      <td>45</td>\n",
       "      <td>object</td>\n",
       "      <td>[unknown, 20% discount, Full auto ad IMAGE ONL...</td>\n",
       "    </tr>\n",
       "    <tr>\n",
       "      <th>trafficSource.adwordsClickInfo.adNetworkType</th>\n",
       "      <td>0</td>\n",
       "      <td>3</td>\n",
       "      <td>object</td>\n",
       "      <td>[unknown, Google Search, Search partners]</td>\n",
       "    </tr>\n",
       "    <tr>\n",
       "      <th>trafficSource.adwordsClickInfo.gclId</th>\n",
       "      <td>0</td>\n",
       "      <td>17775</td>\n",
       "      <td>object</td>\n",
       "      <td>[unknown, CMO7jYbm48sCFUdrfgod1MAP1w, CPSfsJuX...</td>\n",
       "    </tr>\n",
       "    <tr>\n",
       "      <th>trafficSource.adwordsClickInfo.isVideoAd</th>\n",
       "      <td>0</td>\n",
       "      <td>2</td>\n",
       "      <td>object</td>\n",
       "      <td>[True, False]</td>\n",
       "    </tr>\n",
       "    <tr>\n",
       "      <th>trafficSource.adwordsClickInfo.page</th>\n",
       "      <td>0</td>\n",
       "      <td>9</td>\n",
       "      <td>object</td>\n",
       "      <td>[unknown, 1.0, 5.0, 2.0, 4.0, 9.0, 7.0, 3.0, 1...</td>\n",
       "    </tr>\n",
       "    <tr>\n",
       "      <th>trafficSource.adwordsClickInfo.slot</th>\n",
       "      <td>0</td>\n",
       "      <td>3</td>\n",
       "      <td>object</td>\n",
       "      <td>[unknown, RHS, Top]</td>\n",
       "    </tr>\n",
       "    <tr>\n",
       "      <th>trafficSource.campaign</th>\n",
       "      <td>0</td>\n",
       "      <td>10</td>\n",
       "      <td>object</td>\n",
       "      <td>[(not set), Data Share Promo, All Products, AW...</td>\n",
       "    </tr>\n",
       "    <tr>\n",
       "      <th>trafficSource.isTrueDirect</th>\n",
       "      <td>0</td>\n",
       "      <td>2</td>\n",
       "      <td>bool</td>\n",
       "      <td>[True, False]</td>\n",
       "    </tr>\n",
       "    <tr>\n",
       "      <th>trafficSource.keyword</th>\n",
       "      <td>0</td>\n",
       "      <td>3660</td>\n",
       "      <td>object</td>\n",
       "      <td>[unknown, (not provided), category_l1==166, (R...</td>\n",
       "    </tr>\n",
       "    <tr>\n",
       "      <th>trafficSource.medium</th>\n",
       "      <td>0</td>\n",
       "      <td>7</td>\n",
       "      <td>object</td>\n",
       "      <td>[(none), referral, organic, cpm, cpc, affiliat...</td>\n",
       "    </tr>\n",
       "    <tr>\n",
       "      <th>trafficSource.referralPath</th>\n",
       "      <td>0</td>\n",
       "      <td>1476</td>\n",
       "      <td>object</td>\n",
       "      <td>[unknown, /yt/about/, /permissions/using-the-l...</td>\n",
       "    </tr>\n",
       "    <tr>\n",
       "      <th>trafficSource.source</th>\n",
       "      <td>0</td>\n",
       "      <td>380</td>\n",
       "      <td>object</td>\n",
       "      <td>[(direct), youtube.com, google, google.co.jp, ...</td>\n",
       "    </tr>\n",
       "  </tbody>\n",
       "</table>\n",
       "</div>"
      ],
      "text/plain": [
       "                                              Null  Unique_Count  \\\n",
       "channelGrouping                                  0             8   \n",
       "date                                             0        887159   \n",
       "fullVisitorId                                    0        714167   \n",
       "sessionId                                        0        902755   \n",
       "visitId                                          0        886303   \n",
       "visitNumber                                      0           384   \n",
       "device.browser                                   0            54   \n",
       "device.deviceCategory                            0             3   \n",
       "device.isMobile                                  0             2   \n",
       "device.operatingSystem                           0            20   \n",
       "geoNetwork.city                                  0           649   \n",
       "geoNetwork.continent                             0             6   \n",
       "geoNetwork.country                               0           222   \n",
       "geoNetwork.metro                                 0            94   \n",
       "geoNetwork.networkDomain                         0         28064   \n",
       "geoNetwork.region                                0           376   \n",
       "geoNetwork.subContinent                          0            23   \n",
       "totals.bounces                                   0             2   \n",
       "totals.hits                                      0           274   \n",
       "totals.newVisits                                 0             2   \n",
       "totals.pageviews                                 0           213   \n",
       "totals.transactionRevenue                        0          5333   \n",
       "trafficSource.adContent                          0            45   \n",
       "trafficSource.adwordsClickInfo.adNetworkType     0             3   \n",
       "trafficSource.adwordsClickInfo.gclId             0         17775   \n",
       "trafficSource.adwordsClickInfo.isVideoAd         0             2   \n",
       "trafficSource.adwordsClickInfo.page              0             9   \n",
       "trafficSource.adwordsClickInfo.slot              0             3   \n",
       "trafficSource.campaign                           0            10   \n",
       "trafficSource.isTrueDirect                       0             2   \n",
       "trafficSource.keyword                            0          3660   \n",
       "trafficSource.medium                             0             7   \n",
       "trafficSource.referralPath                       0          1476   \n",
       "trafficSource.source                             0           380   \n",
       "\n",
       "                                                   Data_type  \\\n",
       "channelGrouping                                       object   \n",
       "date                                          datetime64[ns]   \n",
       "fullVisitorId                                         object   \n",
       "sessionId                                             object   \n",
       "visitId                                                int64   \n",
       "visitNumber                                            int64   \n",
       "device.browser                                        object   \n",
       "device.deviceCategory                                 object   \n",
       "device.isMobile                                         bool   \n",
       "device.operatingSystem                                object   \n",
       "geoNetwork.city                                       object   \n",
       "geoNetwork.continent                                  object   \n",
       "geoNetwork.country                                    object   \n",
       "geoNetwork.metro                                      object   \n",
       "geoNetwork.networkDomain                              object   \n",
       "geoNetwork.region                                     object   \n",
       "geoNetwork.subContinent                               object   \n",
       "totals.bounces                                         int32   \n",
       "totals.hits                                            int64   \n",
       "totals.newVisits                                       int32   \n",
       "totals.pageviews                                       int32   \n",
       "totals.transactionRevenue                            float64   \n",
       "trafficSource.adContent                               object   \n",
       "trafficSource.adwordsClickInfo.adNetworkType          object   \n",
       "trafficSource.adwordsClickInfo.gclId                  object   \n",
       "trafficSource.adwordsClickInfo.isVideoAd              object   \n",
       "trafficSource.adwordsClickInfo.page                   object   \n",
       "trafficSource.adwordsClickInfo.slot                   object   \n",
       "trafficSource.campaign                                object   \n",
       "trafficSource.isTrueDirect                              bool   \n",
       "trafficSource.keyword                                 object   \n",
       "trafficSource.medium                                  object   \n",
       "trafficSource.referralPath                            object   \n",
       "trafficSource.source                                  object   \n",
       "\n",
       "                                                                                  Sample_values  \n",
       "channelGrouping                               [Direct, Social, Organic Search, Referral, Dis...  \n",
       "date                                          [2016-08-01T07:00:12.000000000, 2016-08-01T07:...  \n",
       "fullVisitorId                                 [0423043652415339154, 8294721032567046680, 771...  \n",
       "sessionId                                     [0423043652415339154_1470034812, 8294721032567...  \n",
       "visitId                                       [1470034812, 1470035066, 1470035081, 147003516...  \n",
       "visitNumber                                   [3, 1, 5, 2, 7, 6, 96, 16, 12, 4, 9, 22, 10, 2...  \n",
       "device.browser                                [Safari, Chrome, Amazon Silk, Firefox, Interne...  \n",
       "device.deviceCategory                                                 [mobile, desktop, tablet]  \n",
       "device.isMobile                                                                   [True, False]  \n",
       "device.operatingSystem                        [iOS, Windows, Android, Macintosh, Linux, Chro...  \n",
       "geoNetwork.city                               [not available in demo dataset, Quezon City, S...  \n",
       "geoNetwork.continent                          [Americas, Asia, Europe, Africa, Oceania, (not...  \n",
       "geoNetwork.country                            [United States, Thailand, Canada, Philippines,...  \n",
       "geoNetwork.metro                              [not available in demo dataset, (not set), San...  \n",
       "geoNetwork.networkDomain                      [(not set), unknown.unknown, bell.ca, pldt.net...  \n",
       "geoNetwork.region                             [not available in demo dataset, Metro Manila, ...  \n",
       "geoNetwork.subContinent                       [Northern America, Southeast Asia, Northern Eu...  \n",
       "totals.bounces                                                                           [1, 0]  \n",
       "totals.hits                                   [1, 5, 9, 7, 53, 2, 8, 33, 12, 3, 19, 4, 21, 1...  \n",
       "totals.newVisits                                                                         [0, 1]  \n",
       "totals.pageviews                              [1, 5, 7, 36, 2, 6, 20, 8, 3, 14, 19, 9, 12, 1...  \n",
       "totals.transactionRevenue                     [0.0, 1589400000.0, 8990000.0, 27190000.0, 717...  \n",
       "trafficSource.adContent                       [unknown, 20% discount, Full auto ad IMAGE ONL...  \n",
       "trafficSource.adwordsClickInfo.adNetworkType          [unknown, Google Search, Search partners]  \n",
       "trafficSource.adwordsClickInfo.gclId          [unknown, CMO7jYbm48sCFUdrfgod1MAP1w, CPSfsJuX...  \n",
       "trafficSource.adwordsClickInfo.isVideoAd                                          [True, False]  \n",
       "trafficSource.adwordsClickInfo.page           [unknown, 1.0, 5.0, 2.0, 4.0, 9.0, 7.0, 3.0, 1...  \n",
       "trafficSource.adwordsClickInfo.slot                                         [unknown, RHS, Top]  \n",
       "trafficSource.campaign                        [(not set), Data Share Promo, All Products, AW...  \n",
       "trafficSource.isTrueDirect                                                        [True, False]  \n",
       "trafficSource.keyword                         [unknown, (not provided), category_l1==166, (R...  \n",
       "trafficSource.medium                          [(none), referral, organic, cpm, cpc, affiliat...  \n",
       "trafficSource.referralPath                    [unknown, /yt/about/, /permissions/using-the-l...  \n",
       "trafficSource.source                          [(direct), youtube.com, google, google.co.jp, ...  "
      ]
     },
     "execution_count": 8,
     "metadata": {},
     "output_type": "execute_result"
    }
   ],
   "source": [
    "feature_summary(train)"
   ]
  },
  {
   "cell_type": "code",
   "execution_count": 9,
   "metadata": {},
   "outputs": [],
   "source": [
    "train.loc[(train['device.browser'] == 'Edge'), 'device.browser'] = 'Internet Explorer' \n",
    "train.loc[(train['device.browser'] == 'Safari (in-app)'), 'device.browser'] = 'Safari'\n",
    "train.loc[(train['device.browser'] == 'Android Browser'), 'device.browser'] = 'Android Webview'\n",
    "train.loc[(train['device.browser'] == 'Opera Mini'), 'device.browser'] = 'Opera'\n",
    "\n",
    "test.loc[(test['device.browser'] == 'Edge'), 'device.browser'] = 'Internet Explorer' \n",
    "test.loc[(test['device.browser'] == 'Safari (in-app)'), 'device.browser'] = 'Safari'\n",
    "test.loc[(test['device.browser'] == 'Android Browser'), 'device.browser'] = 'Android Webview'\n",
    "test.loc[(test['device.browser'] == 'Samsung Internet'), 'device.browser'] = 'Android Webview'\n",
    "test.loc[(test['device.browser'] == 'Opera Mini'), 'device.browser'] = 'Opera'"
   ]
  },
  {
   "cell_type": "code",
   "execution_count": 10,
   "metadata": {},
   "outputs": [],
   "source": [
    "col = ['Chrome', 'Safari', 'Firefox', 'Android Webview', 'Internet Explorer', 'Opera', 'UC Browser', 'YaBrowser', 'Amazon Silk', 'Coc Coc']\n",
    "\n",
    "train.loc[train['device.browser'].map(lambda x: x not in col), 'device.browser'] = 'Other'\n",
    "test.loc[test['device.browser'].map(lambda x: x not in col), 'device.browser'] = 'Other'"
   ]
  },
  {
   "cell_type": "code",
   "execution_count": 11,
   "metadata": {},
   "outputs": [],
   "source": [
    "col = ['Windows', 'Macintosh', 'Chrome OS', 'Android', 'iOS', 'Linux', 'Samsung', 'Windows Phone', 'Tizen', 'BlackBerry']\n",
    "\n",
    "train.loc[train['device.operatingSystem'].map(lambda x: x not in col), 'device.operatingSystem'] = 'Other'\n",
    "test.loc[test['device.operatingSystem'].map(lambda x: x not in col), 'device.operatingSystem'] = 'Other'"
   ]
  },
  {
   "cell_type": "code",
   "execution_count": 12,
   "metadata": {},
   "outputs": [],
   "source": [
    "vc = pd.concat([train['geoNetwork.city'], test['geoNetwork.city']], sort=False).value_counts()\n",
    "common = vc > 1000\n",
    "common = set(common.index[common].values)  \n",
    "train.loc[train['geoNetwork.city'].map(lambda x: x not in common), 'geoNetwork.city'] = 'Other'\n",
    "test.loc[test['geoNetwork.city'].map(lambda x: x not in common), 'geoNetwork.city'] = 'Other'"
   ]
  },
  {
   "cell_type": "code",
   "execution_count": 13,
   "metadata": {},
   "outputs": [],
   "source": [
    "def clearRare(columnname, limit = 1000):\n",
    "    vc = pd.concat([train[columnname], test[columnname]], sort=False).value_counts()\n",
    "    common = vc > limit\n",
    "    common = set(common.index[common].values)\n",
    "    print(\"Set\", sum(vc <= limit), columnname, \"categories to 'other';\", end=\" \")\n",
    "    \n",
    "    train.loc[train[columnname].map(lambda x: x not in common), columnname] = 'Other'\n",
    "    test.loc[test[columnname].map(lambda x: x not in common), columnname] = 'Other'\n",
    "    print(\"now there are\", train[columnname].nunique(), \"categories in train\")"
   ]
  },
  {
   "cell_type": "code",
   "execution_count": 14,
   "metadata": {},
   "outputs": [
    {
     "name": "stdout",
     "output_type": "stream",
     "text": [
      "Set 147 geoNetwork.country categories to 'other'; now there are 82 categories in train\n",
      "Set 97 geoNetwork.metro categories to 'other'; now there are 27 categories in train\n",
      "Set 41850 geoNetwork.networkDomain categories to 'other'; now there are 133 categories in train\n",
      "Set 391 geoNetwork.region categories to 'other'; now there are 92 categories in train\n",
      "Set 4 geoNetwork.subContinent categories to 'other'; now there are 20 categories in train\n",
      "Set 70 trafficSource.adContent categories to 'other'; now there are 5 categories in train\n",
      "Set 27 trafficSource.campaign categories to 'other'; now there are 5 categories in train\n",
      "Set 5382 trafficSource.keyword categories to 'other'; now there are 12 categories in train\n",
      "Set 1 trafficSource.medium categories to 'other'; now there are 7 categories in train\n",
      "Set 3144 trafficSource.referralPath categories to 'other'; now there are 45 categories in train\n",
      "Set 473 trafficSource.source categories to 'other'; now there are 28 categories in train\n"
     ]
    }
   ],
   "source": [
    "clearRare(\"geoNetwork.country\")\n",
    "clearRare(\"geoNetwork.metro\")\n",
    "clearRare(\"geoNetwork.networkDomain\")\n",
    "clearRare(\"geoNetwork.region\")\n",
    "clearRare(\"geoNetwork.subContinent\")\n",
    "clearRare(\"trafficSource.adContent\")\n",
    "clearRare(\"trafficSource.campaign\")\n",
    "clearRare(\"trafficSource.keyword\")\n",
    "clearRare(\"trafficSource.medium\")\n",
    "clearRare(\"trafficSource.referralPath\")\n",
    "clearRare(\"trafficSource.source\")"
   ]
  },
  {
   "cell_type": "code",
   "execution_count": 15,
   "metadata": {},
   "outputs": [],
   "source": [
    "for df in [train, test]:\n",
    "    df['source_country'] = df['trafficSource.source'] + '_' + df['geoNetwork.country']\n",
    "    df['campaign_medium'] = df['trafficSource.campaign'] + '_' + df['trafficSource.medium']\n",
    "    df['browser_category'] = df['device.browser'] + '_' + df['device.deviceCategory']\n",
    "    df['browser_os'] = df['device.browser'] + '_' + df['device.operatingSystem']\n",
    "    df['region_category'] = df['geoNetwork.region'] + '_' + df['device.deviceCategory']\n",
    "    df['metro_category'] = df['geoNetwork.metro'] + '_' + df['device.deviceCategory']\n",
    "    df['country_category'] = df['geoNetwork.country'] + '_' + df['device.deviceCategory']\n",
    "    df['subContinent_operatingSystem'] = df['geoNetwork.subContinent'] + '_' + df['device.operatingSystem']"
   ]
  },
  {
   "cell_type": "code",
   "execution_count": 16,
   "metadata": {},
   "outputs": [],
   "source": [
    "for df in [train, test]:\n",
    "    df['continent_unique_user_count'] = df.groupby('geoNetwork.continent')['fullVisitorId'].transform('nunique')\n",
    "    df['country_unique_user_count'] = df.groupby('geoNetwork.country')['fullVisitorId'].transform('nunique')\n",
    "    df['subcontinent_unique_user_count'] = df.groupby('geoNetwork.subContinent')['fullVisitorId'].transform('nunique')"
   ]
  },
  {
   "cell_type": "code",
   "execution_count": 17,
   "metadata": {
    "scrolled": false
   },
   "outputs": [],
   "source": [
    "for feature in [\"totals.hits\", \"totals.pageviews\"]:\n",
    "    info = pd.concat([train, test], sort=False).groupby(\"fullVisitorId\")[feature].mean()\n",
    "    train[\"usermean_\" + feature] = train.fullVisitorId.map(info)\n",
    "    test[\"usermean_\" + feature] = test.fullVisitorId.map(info)\n",
    "    \n",
    "for feature in [\"visitNumber\"]:\n",
    "    info = pd.concat([train, test], sort=False).groupby(\"fullVisitorId\")[feature].max()\n",
    "    train[\"usermax_\" + feature] = train.fullVisitorId.map(info)\n",
    "    test[\"usermax_\" + feature] = test.fullVisitorId.map(info)"
   ]
  },
  {
   "cell_type": "code",
   "execution_count": 18,
   "metadata": {},
   "outputs": [],
   "source": [
    "for df in [train, test]:\n",
    "    df[\"id_incoherence\"] = pd.to_datetime(df.visitId, unit='s') != df.date\n",
    "    df[\"visitId_dublicates\"] = df.visitId.map(df.visitId.value_counts())\n",
    "    df[\"session_dublicates\"] = df.sessionId.map(df.sessionId.value_counts())"
   ]
  },
  {
   "cell_type": "code",
   "execution_count": 19,
   "metadata": {},
   "outputs": [],
   "source": [
    "for df in [train, test]:\n",
    "    df['weekday'] = df['date'].dt.dayofweek.astype(object)\n",
    "    df['time'] = df['date'].dt.second + df['date'].dt.minute*60 + df['date'].dt.hour*3600"
   ]
  },
  {
   "cell_type": "code",
   "execution_count": 20,
   "metadata": {},
   "outputs": [
    {
     "name": "stderr",
     "output_type": "stream",
     "text": [
      "C:\\Users\\se93w\\Anaconda3\\envs\\sewo\\lib\\site-packages\\ipykernel_launcher.py:1: FutureWarning:\n",
      "\n",
      "Sorting because non-concatenation axis is not aligned. A future version\n",
      "of pandas will change to not sort by default.\n",
      "\n",
      "To accept the future behavior, pass 'sort=False'.\n",
      "\n",
      "To retain the current behavior and silence the warning, pass 'sort=True'.\n",
      "\n",
      "\n"
     ]
    }
   ],
   "source": [
    "df = pd.concat([train, test])\n",
    "df.sort_values(['fullVisitorId', 'date'], ascending=True, inplace=True)\n",
    "df['prev_session'] = (df['date'] - df[['fullVisitorId', 'date']].groupby('fullVisitorId')['date'].shift(1)).astype(np.int64) // 1e9 // 60 // 60\n",
    "df['next_session'] = (df['date'] - df[['fullVisitorId', 'date']].groupby('fullVisitorId')['date'].shift(-1)).astype(np.int64) // 1e9 // 60 // 60\n",
    "df.sort_index(inplace=True)\n",
    "\n",
    "train = df[:len(train)]\n",
    "test = df[len(train):]"
   ]
  },
  {
   "cell_type": "code",
   "execution_count": 28,
   "metadata": {},
   "outputs": [
    {
     "data": {
      "text/html": [
       "<div>\n",
       "<style scoped>\n",
       "    .dataframe tbody tr th:only-of-type {\n",
       "        vertical-align: middle;\n",
       "    }\n",
       "\n",
       "    .dataframe tbody tr th {\n",
       "        vertical-align: top;\n",
       "    }\n",
       "\n",
       "    .dataframe thead th {\n",
       "        text-align: right;\n",
       "    }\n",
       "</style>\n",
       "<table border=\"1\" class=\"dataframe\">\n",
       "  <thead>\n",
       "    <tr style=\"text-align: right;\">\n",
       "      <th></th>\n",
       "      <th>source_country</th>\n",
       "      <th>campaign_medium</th>\n",
       "      <th>browser_category</th>\n",
       "      <th>browser_os</th>\n",
       "      <th>region_category</th>\n",
       "      <th>metro_category</th>\n",
       "      <th>continent_unique_user_count</th>\n",
       "      <th>country_unique_user_count</th>\n",
       "    </tr>\n",
       "    <tr>\n",
       "      <th>visitStartTime</th>\n",
       "      <th></th>\n",
       "      <th></th>\n",
       "      <th></th>\n",
       "      <th></th>\n",
       "      <th></th>\n",
       "      <th></th>\n",
       "      <th></th>\n",
       "      <th></th>\n",
       "    </tr>\n",
       "  </thead>\n",
       "  <tbody>\n",
       "    <tr>\n",
       "      <th>2016-08-01 07:00:12</th>\n",
       "      <td>(direct)_United States</td>\n",
       "      <td>(not set)_(none)</td>\n",
       "      <td>Safari_mobile</td>\n",
       "      <td>Safari_iOS</td>\n",
       "      <td>not available in demo dataset_mobile</td>\n",
       "      <td>not available in demo dataset_mobile</td>\n",
       "      <td>323208</td>\n",
       "      <td>251830</td>\n",
       "    </tr>\n",
       "    <tr>\n",
       "      <th>2016-08-01 07:04:26</th>\n",
       "      <td>youtube.com_Thailand</td>\n",
       "      <td>(not set)_referral</td>\n",
       "      <td>Chrome_desktop</td>\n",
       "      <td>Chrome_Windows</td>\n",
       "      <td>not available in demo dataset_desktop</td>\n",
       "      <td>not available in demo dataset_desktop</td>\n",
       "      <td>196416</td>\n",
       "      <td>18792</td>\n",
       "    </tr>\n",
       "    <tr>\n",
       "      <th>2016-08-01 07:04:41</th>\n",
       "      <td>google_United States</td>\n",
       "      <td>(not set)_organic</td>\n",
       "      <td>Amazon Silk_tablet</td>\n",
       "      <td>Amazon Silk_Android</td>\n",
       "      <td>not available in demo dataset_tablet</td>\n",
       "      <td>not available in demo dataset_tablet</td>\n",
       "      <td>323208</td>\n",
       "      <td>251830</td>\n",
       "    </tr>\n",
       "    <tr>\n",
       "      <th>2016-08-01 07:06:01</th>\n",
       "      <td>google_Canada</td>\n",
       "      <td>(not set)_organic</td>\n",
       "      <td>Chrome_desktop</td>\n",
       "      <td>Chrome_Windows</td>\n",
       "      <td>not available in demo dataset_desktop</td>\n",
       "      <td>not available in demo dataset_desktop</td>\n",
       "      <td>323208</td>\n",
       "      <td>19356</td>\n",
       "    </tr>\n",
       "    <tr>\n",
       "      <th>2016-08-01 07:06:10</th>\n",
       "      <td>(direct)_Philippines</td>\n",
       "      <td>(not set)_(none)</td>\n",
       "      <td>Chrome_desktop</td>\n",
       "      <td>Chrome_Windows</td>\n",
       "      <td>Metro Manila_desktop</td>\n",
       "      <td>(not set)_desktop</td>\n",
       "      <td>196416</td>\n",
       "      <td>8153</td>\n",
       "    </tr>\n",
       "    <tr>\n",
       "      <th>2016-08-01 07:08:12</th>\n",
       "      <td>(direct)_United States</td>\n",
       "      <td>(not set)_(none)</td>\n",
       "      <td>Safari_mobile</td>\n",
       "      <td>Safari_iOS</td>\n",
       "      <td>California_mobile</td>\n",
       "      <td>San Francisco-Oakland-San Jose CA_mobile</td>\n",
       "      <td>323208</td>\n",
       "      <td>251830</td>\n",
       "    </tr>\n",
       "    <tr>\n",
       "      <th>2016-08-01 07:10:29</th>\n",
       "      <td>(direct)_United States</td>\n",
       "      <td>(not set)_(none)</td>\n",
       "      <td>Safari_tablet</td>\n",
       "      <td>Safari_iOS</td>\n",
       "      <td>California_tablet</td>\n",
       "      <td>San Francisco-Oakland-San Jose CA_tablet</td>\n",
       "      <td>323208</td>\n",
       "      <td>251830</td>\n",
       "    </tr>\n",
       "    <tr>\n",
       "      <th>2016-08-01 07:10:57</th>\n",
       "      <td>google_United States</td>\n",
       "      <td>(not set)_organic</td>\n",
       "      <td>Chrome_mobile</td>\n",
       "      <td>Chrome_Android</td>\n",
       "      <td>California_mobile</td>\n",
       "      <td>San Francisco-Oakland-San Jose CA_mobile</td>\n",
       "      <td>323208</td>\n",
       "      <td>251830</td>\n",
       "    </tr>\n",
       "    <tr>\n",
       "      <th>2016-08-01 07:11:41</th>\n",
       "      <td>youtube.com_United States</td>\n",
       "      <td>(not set)_referral</td>\n",
       "      <td>Chrome_desktop</td>\n",
       "      <td>Chrome_Windows</td>\n",
       "      <td>not available in demo dataset_desktop</td>\n",
       "      <td>not available in demo dataset_desktop</td>\n",
       "      <td>323208</td>\n",
       "      <td>251830</td>\n",
       "    </tr>\n",
       "    <tr>\n",
       "      <th>2016-08-01 07:12:01</th>\n",
       "      <td>(direct)_United Kingdom</td>\n",
       "      <td>(not set)_(none)</td>\n",
       "      <td>Safari_mobile</td>\n",
       "      <td>Safari_iOS</td>\n",
       "      <td>not available in demo dataset_mobile</td>\n",
       "      <td>not available in demo dataset_mobile</td>\n",
       "      <td>167966</td>\n",
       "      <td>31653</td>\n",
       "    </tr>\n",
       "  </tbody>\n",
       "</table>\n",
       "</div>"
      ],
      "text/plain": [
       "                                source_country     campaign_medium  \\\n",
       "visitStartTime                                                       \n",
       "2016-08-01 07:00:12     (direct)_United States    (not set)_(none)   \n",
       "2016-08-01 07:04:26       youtube.com_Thailand  (not set)_referral   \n",
       "2016-08-01 07:04:41       google_United States   (not set)_organic   \n",
       "2016-08-01 07:06:01              google_Canada   (not set)_organic   \n",
       "2016-08-01 07:06:10       (direct)_Philippines    (not set)_(none)   \n",
       "2016-08-01 07:08:12     (direct)_United States    (not set)_(none)   \n",
       "2016-08-01 07:10:29     (direct)_United States    (not set)_(none)   \n",
       "2016-08-01 07:10:57       google_United States   (not set)_organic   \n",
       "2016-08-01 07:11:41  youtube.com_United States  (not set)_referral   \n",
       "2016-08-01 07:12:01    (direct)_United Kingdom    (not set)_(none)   \n",
       "\n",
       "                       browser_category           browser_os  \\\n",
       "visitStartTime                                                 \n",
       "2016-08-01 07:00:12       Safari_mobile           Safari_iOS   \n",
       "2016-08-01 07:04:26      Chrome_desktop       Chrome_Windows   \n",
       "2016-08-01 07:04:41  Amazon Silk_tablet  Amazon Silk_Android   \n",
       "2016-08-01 07:06:01      Chrome_desktop       Chrome_Windows   \n",
       "2016-08-01 07:06:10      Chrome_desktop       Chrome_Windows   \n",
       "2016-08-01 07:08:12       Safari_mobile           Safari_iOS   \n",
       "2016-08-01 07:10:29       Safari_tablet           Safari_iOS   \n",
       "2016-08-01 07:10:57       Chrome_mobile       Chrome_Android   \n",
       "2016-08-01 07:11:41      Chrome_desktop       Chrome_Windows   \n",
       "2016-08-01 07:12:01       Safari_mobile           Safari_iOS   \n",
       "\n",
       "                                           region_category  \\\n",
       "visitStartTime                                               \n",
       "2016-08-01 07:00:12   not available in demo dataset_mobile   \n",
       "2016-08-01 07:04:26  not available in demo dataset_desktop   \n",
       "2016-08-01 07:04:41   not available in demo dataset_tablet   \n",
       "2016-08-01 07:06:01  not available in demo dataset_desktop   \n",
       "2016-08-01 07:06:10                   Metro Manila_desktop   \n",
       "2016-08-01 07:08:12                      California_mobile   \n",
       "2016-08-01 07:10:29                      California_tablet   \n",
       "2016-08-01 07:10:57                      California_mobile   \n",
       "2016-08-01 07:11:41  not available in demo dataset_desktop   \n",
       "2016-08-01 07:12:01   not available in demo dataset_mobile   \n",
       "\n",
       "                                               metro_category  \\\n",
       "visitStartTime                                                  \n",
       "2016-08-01 07:00:12      not available in demo dataset_mobile   \n",
       "2016-08-01 07:04:26     not available in demo dataset_desktop   \n",
       "2016-08-01 07:04:41      not available in demo dataset_tablet   \n",
       "2016-08-01 07:06:01     not available in demo dataset_desktop   \n",
       "2016-08-01 07:06:10                         (not set)_desktop   \n",
       "2016-08-01 07:08:12  San Francisco-Oakland-San Jose CA_mobile   \n",
       "2016-08-01 07:10:29  San Francisco-Oakland-San Jose CA_tablet   \n",
       "2016-08-01 07:10:57  San Francisco-Oakland-San Jose CA_mobile   \n",
       "2016-08-01 07:11:41     not available in demo dataset_desktop   \n",
       "2016-08-01 07:12:01      not available in demo dataset_mobile   \n",
       "\n",
       "                     continent_unique_user_count  country_unique_user_count  \n",
       "visitStartTime                                                               \n",
       "2016-08-01 07:00:12                       323208                     251830  \n",
       "2016-08-01 07:04:26                       196416                      18792  \n",
       "2016-08-01 07:04:41                       323208                     251830  \n",
       "2016-08-01 07:06:01                       323208                      19356  \n",
       "2016-08-01 07:06:10                       196416                       8153  \n",
       "2016-08-01 07:08:12                       323208                     251830  \n",
       "2016-08-01 07:10:29                       323208                     251830  \n",
       "2016-08-01 07:10:57                       323208                     251830  \n",
       "2016-08-01 07:11:41                       323208                     251830  \n",
       "2016-08-01 07:12:01                       167966                      31653  "
      ]
     },
     "execution_count": 28,
     "metadata": {},
     "output_type": "execute_result"
    }
   ],
   "source": [
    "train[['source_country', 'campaign_medium', 'browser_category', 'browser_os', 'region_category', 'metro_category', 'continent_unique_user_count', 'country_unique_user_count']].head(10)"
   ]
  },
  {
   "cell_type": "code",
   "execution_count": 253,
   "metadata": {},
   "outputs": [],
   "source": [
    "test[\"totals.transactionRevenue\"].fillna(0.0, inplace=True)"
   ]
  },
  {
   "cell_type": "code",
   "execution_count": 255,
   "metadata": {},
   "outputs": [],
   "source": [
    "excluded = ['date', 'fullVisitorId', 'sessionId', 'totals.transactionRevenue', 'visitId', 'visitStartTime']\n",
    "\n",
    "cat_cols = [f for f in train.columns if (train[f].dtype == 'object' and f not in excluded)]\n",
    "real_cols = [f for f in train.columns if (not f in cat_cols and f not in excluded)]"
   ]
  },
  {
   "cell_type": "code",
   "execution_count": 256,
   "metadata": {},
   "outputs": [
    {
     "data": {
      "text/plain": [
       "LabelEncoder()"
      ]
     },
     "execution_count": 256,
     "metadata": {},
     "output_type": "execute_result"
    },
    {
     "name": "stdout",
     "output_type": "stream",
     "text": [
      "total/cur:27/1\n"
     ]
    },
    {
     "data": {
      "text/plain": [
       "LabelEncoder()"
      ]
     },
     "execution_count": 256,
     "metadata": {},
     "output_type": "execute_result"
    },
    {
     "name": "stdout",
     "output_type": "stream",
     "text": [
      "total/cur:27/2\n"
     ]
    },
    {
     "data": {
      "text/plain": [
       "LabelEncoder()"
      ]
     },
     "execution_count": 256,
     "metadata": {},
     "output_type": "execute_result"
    },
    {
     "name": "stdout",
     "output_type": "stream",
     "text": [
      "total/cur:27/3\n"
     ]
    },
    {
     "data": {
      "text/plain": [
       "LabelEncoder()"
      ]
     },
     "execution_count": 256,
     "metadata": {},
     "output_type": "execute_result"
    },
    {
     "name": "stdout",
     "output_type": "stream",
     "text": [
      "total/cur:27/4\n"
     ]
    },
    {
     "data": {
      "text/plain": [
       "LabelEncoder()"
      ]
     },
     "execution_count": 256,
     "metadata": {},
     "output_type": "execute_result"
    },
    {
     "name": "stdout",
     "output_type": "stream",
     "text": [
      "total/cur:27/5\n"
     ]
    },
    {
     "data": {
      "text/plain": [
       "LabelEncoder()"
      ]
     },
     "execution_count": 256,
     "metadata": {},
     "output_type": "execute_result"
    },
    {
     "name": "stdout",
     "output_type": "stream",
     "text": [
      "total/cur:27/6\n"
     ]
    },
    {
     "data": {
      "text/plain": [
       "LabelEncoder()"
      ]
     },
     "execution_count": 256,
     "metadata": {},
     "output_type": "execute_result"
    },
    {
     "name": "stdout",
     "output_type": "stream",
     "text": [
      "total/cur:27/7\n"
     ]
    },
    {
     "data": {
      "text/plain": [
       "LabelEncoder()"
      ]
     },
     "execution_count": 256,
     "metadata": {},
     "output_type": "execute_result"
    },
    {
     "name": "stdout",
     "output_type": "stream",
     "text": [
      "total/cur:27/8\n"
     ]
    },
    {
     "data": {
      "text/plain": [
       "LabelEncoder()"
      ]
     },
     "execution_count": 256,
     "metadata": {},
     "output_type": "execute_result"
    },
    {
     "name": "stdout",
     "output_type": "stream",
     "text": [
      "total/cur:27/9\n"
     ]
    },
    {
     "data": {
      "text/plain": [
       "LabelEncoder()"
      ]
     },
     "execution_count": 256,
     "metadata": {},
     "output_type": "execute_result"
    },
    {
     "name": "stdout",
     "output_type": "stream",
     "text": [
      "total/cur:27/10\n"
     ]
    },
    {
     "data": {
      "text/plain": [
       "LabelEncoder()"
      ]
     },
     "execution_count": 256,
     "metadata": {},
     "output_type": "execute_result"
    },
    {
     "name": "stdout",
     "output_type": "stream",
     "text": [
      "total/cur:27/11\n"
     ]
    },
    {
     "data": {
      "text/plain": [
       "LabelEncoder()"
      ]
     },
     "execution_count": 256,
     "metadata": {},
     "output_type": "execute_result"
    },
    {
     "name": "stdout",
     "output_type": "stream",
     "text": [
      "total/cur:27/12\n"
     ]
    },
    {
     "data": {
      "text/plain": [
       "LabelEncoder()"
      ]
     },
     "execution_count": 256,
     "metadata": {},
     "output_type": "execute_result"
    },
    {
     "name": "stdout",
     "output_type": "stream",
     "text": [
      "total/cur:27/13\n"
     ]
    },
    {
     "data": {
      "text/plain": [
       "LabelEncoder()"
      ]
     },
     "execution_count": 256,
     "metadata": {},
     "output_type": "execute_result"
    },
    {
     "name": "stdout",
     "output_type": "stream",
     "text": [
      "total/cur:27/14\n"
     ]
    },
    {
     "data": {
      "text/plain": [
       "LabelEncoder()"
      ]
     },
     "execution_count": 256,
     "metadata": {},
     "output_type": "execute_result"
    },
    {
     "name": "stdout",
     "output_type": "stream",
     "text": [
      "total/cur:27/15\n"
     ]
    },
    {
     "data": {
      "text/plain": [
       "LabelEncoder()"
      ]
     },
     "execution_count": 256,
     "metadata": {},
     "output_type": "execute_result"
    },
    {
     "name": "stdout",
     "output_type": "stream",
     "text": [
      "total/cur:27/16\n"
     ]
    },
    {
     "data": {
      "text/plain": [
       "LabelEncoder()"
      ]
     },
     "execution_count": 256,
     "metadata": {},
     "output_type": "execute_result"
    },
    {
     "name": "stdout",
     "output_type": "stream",
     "text": [
      "total/cur:27/17\n"
     ]
    },
    {
     "data": {
      "text/plain": [
       "LabelEncoder()"
      ]
     },
     "execution_count": 256,
     "metadata": {},
     "output_type": "execute_result"
    },
    {
     "name": "stdout",
     "output_type": "stream",
     "text": [
      "total/cur:27/18\n"
     ]
    },
    {
     "data": {
      "text/plain": [
       "LabelEncoder()"
      ]
     },
     "execution_count": 256,
     "metadata": {},
     "output_type": "execute_result"
    },
    {
     "name": "stdout",
     "output_type": "stream",
     "text": [
      "total/cur:27/19\n"
     ]
    },
    {
     "data": {
      "text/plain": [
       "LabelEncoder()"
      ]
     },
     "execution_count": 256,
     "metadata": {},
     "output_type": "execute_result"
    },
    {
     "name": "stdout",
     "output_type": "stream",
     "text": [
      "total/cur:27/20\n"
     ]
    },
    {
     "data": {
      "text/plain": [
       "LabelEncoder()"
      ]
     },
     "execution_count": 256,
     "metadata": {},
     "output_type": "execute_result"
    },
    {
     "name": "stdout",
     "output_type": "stream",
     "text": [
      "total/cur:27/21\n"
     ]
    },
    {
     "data": {
      "text/plain": [
       "LabelEncoder()"
      ]
     },
     "execution_count": 256,
     "metadata": {},
     "output_type": "execute_result"
    },
    {
     "name": "stdout",
     "output_type": "stream",
     "text": [
      "total/cur:27/22\n"
     ]
    },
    {
     "data": {
      "text/plain": [
       "LabelEncoder()"
      ]
     },
     "execution_count": 256,
     "metadata": {},
     "output_type": "execute_result"
    },
    {
     "name": "stdout",
     "output_type": "stream",
     "text": [
      "total/cur:27/23\n"
     ]
    },
    {
     "data": {
      "text/plain": [
       "LabelEncoder()"
      ]
     },
     "execution_count": 256,
     "metadata": {},
     "output_type": "execute_result"
    },
    {
     "name": "stdout",
     "output_type": "stream",
     "text": [
      "total/cur:27/24\n"
     ]
    },
    {
     "data": {
      "text/plain": [
       "LabelEncoder()"
      ]
     },
     "execution_count": 256,
     "metadata": {},
     "output_type": "execute_result"
    },
    {
     "name": "stdout",
     "output_type": "stream",
     "text": [
      "total/cur:27/25\n"
     ]
    },
    {
     "data": {
      "text/plain": [
       "LabelEncoder()"
      ]
     },
     "execution_count": 256,
     "metadata": {},
     "output_type": "execute_result"
    },
    {
     "name": "stdout",
     "output_type": "stream",
     "text": [
      "total/cur:27/26\n"
     ]
    },
    {
     "data": {
      "text/plain": [
       "LabelEncoder()"
      ]
     },
     "execution_count": 256,
     "metadata": {},
     "output_type": "execute_result"
    },
    {
     "name": "stdout",
     "output_type": "stream",
     "text": [
      "total/cur:27/27\n",
      "done\n"
     ]
    }
   ],
   "source": [
    "total = len(cat_cols)\n",
    "cur = 0\n",
    "for col in cat_cols:\n",
    "    lbl = LabelEncoder()\n",
    "    lbl.fit(list(train[col].values.astype('str')) + list(test[col].values.astype('str')))\n",
    "    train[col] = lbl.transform(list(train[col].values.astype('str')))\n",
    "    test[col] = lbl.transform(list(test[col].values.astype('str')))\n",
    "    cur += 1\n",
    "    print(\"total/cur:%d/%d\" % (total,cur))\n",
    "print('done')"
   ]
  },
  {
   "cell_type": "code",
   "execution_count": 257,
   "metadata": {},
   "outputs": [],
   "source": [
    "for col in real_cols:\n",
    "    train[col] = train[col].astype(float)\n",
    "    test[col] = test[col].astype(float)"
   ]
  },
  {
   "cell_type": "code",
   "execution_count": 258,
   "metadata": {},
   "outputs": [],
   "source": [
    "for to_del in [\"sessionId\", \"visitId\"]:\n",
    "    del train[to_del]\n",
    "    del test[to_del]"
   ]
  },
  {
   "cell_type": "code",
   "execution_count": 260,
   "metadata": {},
   "outputs": [],
   "source": [
    "excluded = ['date', 'fullVisitorId', 'sessionId', 'totals.transactionRevenue', 'visitId', 'visitStartTime']\n",
    "\n",
    "cat_cols = [f for f in train.columns if (train[f].dtype == 'int64' and f not in excluded)]\n",
    "real_cols = [f for f in train.columns if (not f in cat_cols and f not in excluded)]"
   ]
  },
  {
   "cell_type": "code",
   "execution_count": 261,
   "metadata": {},
   "outputs": [],
   "source": [
    "from sklearn.metrics import mean_squared_error\n",
    "def score(data, y):\n",
    "    validation_res = pd.DataFrame(\n",
    "    {\"fullVisitorId\": data[\"fullVisitorId\"].values,\n",
    "     \"transactionRevenue\": data[\"totals.transactionRevenue\"].values,\n",
    "     \"predictedRevenue\": np.expm1(y)})\n",
    "\n",
    "    validation_res = validation_res.groupby(\"fullVisitorId\")[\"transactionRevenue\", \"predictedRevenue\"].sum().reset_index()\n",
    "    return np.sqrt(mean_squared_error(np.log1p(validation_res[\"transactionRevenue\"].values), \n",
    "                                     np.log1p(validation_res[\"predictedRevenue\"].values)))"
   ]
  },
  {
   "cell_type": "code",
   "execution_count": 262,
   "metadata": {},
   "outputs": [],
   "source": [
    "from sklearn.model_selection import GroupKFold\n",
    "\n",
    "class KFoldValidation():\n",
    "    def __init__(self, data, n_splits=5):\n",
    "        unique_vis = np.array(sorted(data['fullVisitorId'].astype(str).unique()))\n",
    "        folds = GroupKFold(n_splits)\n",
    "        ids = np.arange(data.shape[0])\n",
    "        \n",
    "        self.fold_ids = []\n",
    "        for trn_vis, val_vis in folds.split(X=unique_vis, y=unique_vis, groups=unique_vis):\n",
    "            self.fold_ids.append([\n",
    "                    ids[data['fullVisitorId'].astype(str).isin(unique_vis[trn_vis])],\n",
    "                    ids[data['fullVisitorId'].astype(str).isin(unique_vis[val_vis])]\n",
    "                ])\n",
    "            \n",
    "    def validate(self, train, test, features, model, name=\"\", prepare_stacking=False, \n",
    "                 fit_params={\"early_stopping_rounds\": 50, \"verbose\": 100, \"eval_metric\": \"rmse\"}):\n",
    "        model.FI = pd.DataFrame(index=features)\n",
    "        full_score = 0\n",
    "        \n",
    "        if prepare_stacking:\n",
    "            test[name] = 0\n",
    "            train[name] = np.NaN\n",
    "        \n",
    "        for fold_id, (trn, val) in enumerate(self.fold_ids):\n",
    "            devel = train[features].iloc[trn]\n",
    "            y_devel = np.log1p(train[\"totals.transactionRevenue\"].iloc[trn])\n",
    "            valid = train[features].iloc[val]\n",
    "            y_valid = np.log1p(train[\"totals.transactionRevenue\"].iloc[val])\n",
    "                       \n",
    "            print(\"Fold \", fold_id, \":\")\n",
    "            model.fit(devel, y_devel, eval_set=[(valid, y_valid)], **fit_params)\n",
    "            \n",
    "            if len(model.feature_importances_) == len(features):  # some bugs in catboost?\n",
    "                model.FI['fold' + str(fold_id)] = model.feature_importances_ / model.feature_importances_.sum()\n",
    "\n",
    "            predictions = model.predict(valid)\n",
    "            predictions[predictions < 0] = 0\n",
    "            print(\"Fold \", fold_id, \" error: \", mean_squared_error(y_valid, predictions)**0.5)\n",
    "            \n",
    "            fold_score = score(train.iloc[val], predictions)\n",
    "            full_score += fold_score / len(self.fold_ids)\n",
    "            print(\"Fold \", fold_id, \" score: \", fold_score)\n",
    "            \n",
    "            if prepare_stacking:\n",
    "                train[name].iloc[val] = predictions\n",
    "                \n",
    "                test_predictions = model.predict(test[features])\n",
    "                test_predictions[test_predictions < 0] = 0\n",
    "                test[name] += test_predictions / len(self.fold_ids)\n",
    "                \n",
    "        print(\"Final score: \", full_score)\n",
    "        return full_score"
   ]
  },
  {
   "cell_type": "code",
   "execution_count": 263,
   "metadata": {},
   "outputs": [],
   "source": [
    "Kfolder = KFoldValidation(train)"
   ]
  },
  {
   "cell_type": "code",
   "execution_count": null,
   "metadata": {},
   "outputs": [],
   "source": [
    "lgbmodel = lgb.LGBMRegressor(n_estimators=1000, objective=\"regression\", metric=\"rmse\", num_leaves=31, min_child_samples=100,\n",
    "                      learning_rate=0.03, bagging_fraction=0.7, feature_fraction=0.5, bagging_frequency=5, \n",
    "                      bagging_seed=2019, subsample=.66, colsample_bytree=.66)"
   ]
  },
  {
   "cell_type": "code",
   "execution_count": null,
   "metadata": {},
   "outputs": [],
   "source": [
    "Kfolder.validate(train, test, real_cols + cat_cols, lgbmodel, \"lgbpred\", prepare_stacking=True)"
   ]
  },
  {
   "cell_type": "code",
   "execution_count": null,
   "metadata": {},
   "outputs": [],
   "source": [
    "def create_user_df(df):\n",
    "    agg_data = df[real_cols + cat_cols + ['fullVisitorId']].groupby('fullVisitorId').mean()\n",
    "    \n",
    "    pred_list = df[['fullVisitorId', 'lgbpred']].groupby('fullVisitorId').apply(lambda visitor_df: list(visitor_df.lgbpred))\\\n",
    "        .apply(lambda x: {'pred_'+str(i): pred for i, pred in enumerate(x)})\n",
    "    all_predictions = pd.DataFrame(list(pred_list.values), index=agg_data.index)\n",
    "    feats = all_predictions.columns\n",
    "\n",
    "    all_predictions['t_mean'] = all_predictions.mean(axis=1)\n",
    "    all_predictions['t_median'] = all_predictions.median(axis=1)   # including t_mean as one of the elements? well, ok\n",
    "    all_predictions['t_sum_log'] = all_predictions.sum(axis=1)\n",
    "    all_predictions['t_sum_act'] = all_predictions.fillna(0).sum(axis=1)\n",
    "    all_predictions['t_nb_sess'] = all_predictions.isnull().sum(axis=1)\n",
    "\n",
    "    full_data = pd.concat([agg_data, all_predictions], axis=1).astype(float)\n",
    "    full_data['fullVisitorId'] = full_data.index\n",
    "    del agg_data, all_predictions\n",
    "    gc.collect()\n",
    "    return full_data"
   ]
  },
  {
   "cell_type": "code",
   "execution_count": null,
   "metadata": {},
   "outputs": [],
   "source": [
    "user_train = create_user_df(train)\n",
    "user_test = create_user_df(test)"
   ]
  },
  {
   "cell_type": "code",
   "execution_count": null,
   "metadata": {},
   "outputs": [],
   "source": [
    "features = list(user_train.columns)[:-1]\n",
    "user_train[\"totals.transactionRevenue\"] = train[['fullVisitorId', 'totals.transactionRevenue']].groupby('fullVisitorId').sum()"
   ]
  },
  {
   "cell_type": "code",
   "execution_count": null,
   "metadata": {},
   "outputs": [],
   "source": [
    "for f in features:\n",
    "    if f not in user_test.columns:\n",
    "        user_test[f] = np.nan"
   ]
  },
  {
   "cell_type": "code",
   "execution_count": null,
   "metadata": {},
   "outputs": [],
   "source": [
    "Kfolder = KFoldValidation(user_train)\n",
    "lgbmodel = lgb.LGBMRegressor(n_estimators=1000, objective=\"regression\", metric=\"rmse\", num_leaves=31, min_child_samples=100,\n",
    "                      learning_rate=0.03, bagging_fraction=0.7, feature_fraction=0.5, bagging_frequency=5, \n",
    "                      bagging_seed=2019, subsample=.9, colsample_bytree=.9,\n",
    "                             )\n",
    "Kfolder.validate(user_train, user_test, features, lgbmodel, name=\"lgbfinal\", prepare_stacking=True)\n",
    "\n",
    "xgbmodel = xgb.XGBRegressor(max_depth=10, learning_rate=0.05, n_estimators=600, \n",
    "                                         objective='reg:linear', gamma=1.45, seed=2019, silent=False,\n",
    "                                        subsample=0.67, colsample_bytree=0.54, colsample_bylevel=0.50)\n",
    "Kfolder.validate(user_train, user_test, features, xgbmodel, name=\"xgbfinal\", prepare_stacking=True)\n",
    "\n",
    "catmodel = cat.CatBoostRegressor(iterations=500, learning_rate=0.2, depth=5, random_seed=2019)\n",
    "Kfolder.validate(user_train, user_test, features, catmodel, name=\"catfinal\", prepare_stacking=True,\n",
    "                fit_params={\"use_best_model\": True, \"verbose\": 100})\n",
    "\n",
    "catmodel2 = cat.CatBoostRegressor(iterations=600, learning_rate=0.04, depth=7, random_seed=2019)\n",
    "Kfolder.validate(user_train, user_test, features, catmodel, name=\"catfinal2\", prepare_stacking=True,\n",
    "                fit_params={\"use_best_model\": True, \"verbose\": 100})\n",
    "\n",
    "gc.collect()"
   ]
  },
  {
   "cell_type": "code",
   "execution_count": null,
   "metadata": {},
   "outputs": [],
   "source": [
    "user_train['PredictedLogRevenue'] = 0.3 * user_train[\"lgbfinal\"] + \\\n",
    "                                    0.3 * user_train[\"xgbfinal\"] + \\\n",
    "                                    0.2 * user_train[\"catfinal\"] + \\\n",
    "                                    0.2 * user_train['catfinal2']\n",
    "score(user_train, user_train.PredictedLogRevenue)"
   ]
  },
  {
   "cell_type": "code",
   "execution_count": null,
   "metadata": {},
   "outputs": [],
   "source": [
    "user_test['PredictedLogRevenue'] = 0.3 * user_test[\"lgbfinal\"] +  0.2 * user_test[\"catfinal\"] + 0.2 * user_test[\"catfinal2\"] + 0.3 * user_test[\"xgbfinal\"]\n",
    "user_test[['PredictedLogRevenue']].to_csv('submission.csv', index=True)"
   ]
  }
 ],
 "metadata": {
  "kernelspec": {
   "display_name": "Python 3",
   "language": "python",
   "name": "python3"
  },
  "language_info": {
   "codemirror_mode": {
    "name": "ipython",
    "version": 3
   },
   "file_extension": ".py",
   "mimetype": "text/x-python",
   "name": "python",
   "nbconvert_exporter": "python",
   "pygments_lexer": "ipython3",
   "version": "3.6.6"
  }
 },
 "nbformat": 4,
 "nbformat_minor": 2
}
