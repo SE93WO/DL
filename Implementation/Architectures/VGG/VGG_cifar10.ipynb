{
  "nbformat": 4,
  "nbformat_minor": 0,
  "metadata": {
    "colab": {
      "name": "SEWO.ipynb",
      "version": "0.3.2",
      "provenance": [],
      "collapsed_sections": []
    },
    "kernelspec": {
      "name": "python3",
      "display_name": "Python 3"
    },
    "accelerator": "GPU"
  },
  "cells": [
    {
      "metadata": {
        "id": "polVoR7ALHu-",
        "colab_type": "code",
        "outputId": "25af56f8-c698-43d3-fc15-3e009607b556",
        "colab": {
          "base_uri": "https://localhost:8080/",
          "height": 36
        }
      },
      "cell_type": "code",
      "source": [
        "!apt-get install -y -qq software-properties-common python-software-properties module-init-tools\n",
        "!add-apt-repository -y ppa:alessandro-strada/ppa 2>&1 > /dev/null\n",
        "!apt-get update -qq 2>&1 > /dev/null\n",
        "!apt-get -y install -qq google-drive-ocamlfuse fuse\n",
        "from google.colab import auth\n",
        "auth.authenticate_user()\n",
        "\n",
        "from oauth2client.client import GoogleCredentials\n",
        "creds = GoogleCredentials.get_application_default()\n",
        "\n",
        "import getpass\n",
        "!google-drive-ocamlfuse -headless -id={creds.client_id} -secret={creds.client_secret} < /dev/null 2>&1 | grep URL\n",
        "\n",
        "vcode = getpass.getpass()\n",
        "!echo {vcode} | google-drive-ocamlfuse -headless -id={creds.client_id} -secret={creds.client_secret}\n",
        "\n",
        "# !kill -9 -1 or !pkill -9 -f ipykernel_launcher"
      ],
      "execution_count": 0,
      "outputs": [
        {
          "output_type": "stream",
          "text": [
            "E: Package 'python-software-properties' has no installation candidate\n"
          ],
          "name": "stdout"
        }
      ]
    },
    {
      "metadata": {
        "id": "vtp9xikALsD0",
        "colab_type": "code",
        "outputId": "f3d8ca52-0899-44b8-bf9e-257e7f9055f7",
        "colab": {
          "base_uri": "https://localhost:8080/",
          "height": 73
        }
      },
      "cell_type": "code",
      "source": [
        "import tensorflow as tf\n",
        "from keras.layers.normalization import BatchNormalization\n",
        "from keras.preprocessing.image import ImageDataGenerator\n",
        "from keras.utils import np_utils\n",
        "cifar10 = tf.keras.datasets.cifar10\n",
        "\n",
        "(x_train, y_train), (x_test, y_test) = cifar10.load_data()\n",
        "y_train = np_utils.to_categorical(y_train, 10)\n",
        "y_test = np_utils.to_categorical(y_test, 10)\n",
        "x_train = x_train.astype('float32')\n",
        "x_test = x_test.astype('float32')\n",
        "x_train  /= 255\n",
        "x_test /= 255"
      ],
      "execution_count": 1,
      "outputs": [
        {
          "output_type": "stream",
          "text": [
            "Using TensorFlow backend.\n"
          ],
          "name": "stderr"
        },
        {
          "output_type": "stream",
          "text": [
            "Downloading data from https://www.cs.toronto.edu/~kriz/cifar-10-python.tar.gz\n",
            "170500096/170498071 [==============================] - 41s 0us/step\n"
          ],
          "name": "stdout"
        }
      ]
    },
    {
      "metadata": {
        "id": "AvcPeNpFMZES",
        "colab_type": "code",
        "colab": {}
      },
      "cell_type": "code",
      "source": [
        "vgg = tf.keras.models.Sequential()\n",
        "\n",
        "# Layer 1\n",
        "vgg.add(tf.layers.Conv2D(64, kernel_size=(3, 3), padding='same', input_shape = x_train.shape[1:], activation=tf.nn.relu))\n",
        "vgg.add(tf.keras.layers.BatchNormalization())\n",
        "vgg.add(tf.layers.Conv2D(64, kernel_size=(3, 3), padding='same', activation=tf.nn.relu))\n",
        "vgg.add(tf.keras.layers.BatchNormalization())\n",
        "vgg.add(tf.layers.MaxPooling2D(pool_size=(2, 2), strides=2))\n",
        "\n",
        "# Layer 2\n",
        "vgg.add(tf.layers.Conv2D(128, kernel_size=(3, 3), padding='same', activation=tf.nn.relu))\n",
        "vgg.add(tf.keras.layers.BatchNormalization())\n",
        "vgg.add(tf.layers.Conv2D(128, kernel_size=(3, 3), padding='same', activation=tf.nn.relu))\n",
        "vgg.add(tf.keras.layers.BatchNormalization())\n",
        "vgg.add(tf.layers.MaxPooling2D(pool_size=(2, 2), strides=2))\n",
        "\n",
        "# Layer 3\n",
        "vgg.add(tf.layers.Conv2D(256, kernel_size=(3, 3), padding='same', activation=tf.nn.relu))\n",
        "vgg.add(tf.keras.layers.BatchNormalization())\n",
        "vgg.add(tf.layers.Conv2D(256, kernel_size=(3, 3), padding='same', activation=tf.nn.relu))\n",
        "vgg.add(tf.keras.layers.BatchNormalization())\n",
        "vgg.add(tf.layers.MaxPooling2D(pool_size=(2, 2),  strides=2))\n",
        "\n",
        "# Layer 4\n",
        "vgg.add(tf.layers.Conv2D(512, kernel_size=(3, 3), padding='same', activation=tf.nn.relu))\n",
        "vgg.add(tf.keras.layers.BatchNormalization())\n",
        "vgg.add(tf.layers.Conv2D(512, kernel_size=(3, 3), padding='same', activation=tf.nn.relu))\n",
        "vgg.add(tf.keras.layers.BatchNormalization())\n",
        "vgg.add(tf.layers.MaxPooling2D(pool_size=(2, 2), strides=2))\n",
        "\n",
        "# Layer 5\n",
        "#vgg.add(tf.layers.Conv2D(512, kernel_size=(3, 3), padding='same', activation=tf.nn.relu))\n",
        "#vgg.add(tf.keras.layers.BatchNormalization())\n",
        "#vgg.add(tf.layers.Conv2D(512, kernel_size=(3, 3), padding='same', activation=tf.nn.relu))\n",
        "#vgg.add(tf.keras.layers.BatchNormalization())\n",
        "#vgg.add(tf.layers.MaxPooling2D(pool_size=(2, 2), strides=2))\n",
        "\n",
        "# Layer 6\n",
        "vgg.add(tf.layers.Flatten())\n",
        "vgg.add(tf.layers.Dense(1024, activation=tf.nn.relu))\n",
        "vgg.add(tf.keras.layers.BatchNormalization())\n",
        "vgg.add(tf.layers.Dropout(0.5))\n",
        "vgg.add(tf.layers.Dense(10, activation=tf.nn.softmax))"
      ],
      "execution_count": 0,
      "outputs": []
    },
    {
      "metadata": {
        "id": "_NCZ_7QDRBfY",
        "colab_type": "code",
        "colab": {}
      },
      "cell_type": "code",
      "source": [
        "sgd = tf.keras.optimizers.SGD(lr=0.1, decay=1e-6, momentum=0.9, nesterov=True)\n",
        "vgg.compile(optimizer=sgd, loss='categorical_crossentropy', metrics=['accuracy'])"
      ],
      "execution_count": 0,
      "outputs": []
    },
    {
      "metadata": {
        "id": "TyDb3-FiRBuJ",
        "colab_type": "code",
        "outputId": "ac6fb262-e4a4-4d46-babd-5ed0e686ce65",
        "colab": {
          "base_uri": "https://localhost:8080/",
          "height": 2295
        }
      },
      "cell_type": "code",
      "source": [
        "datagen = ImageDataGenerator(horizontal_flip=True,\n",
        "        width_shift_range=0.1, height_shift_range=0.1)\n",
        "\n",
        "datagen.fit(x_train)\n",
        "\n",
        "vgg.fit_generator(datagen.flow(x_train, y_train, batch_size=64),\n",
        "                    steps_per_epoch=x_train.shape[0] // 64,\n",
        "                    epochs=60,\n",
        "                    verbose=1,validation_data=(x_test,y_test))\n",
        "\n",
        "\n",
        "vgg.evaluate(x_test, y_test)"
      ],
      "execution_count": 4,
      "outputs": [
        {
          "output_type": "stream",
          "text": [
            "Epoch 1/60\n",
            "781/781 [==============================] - 62s 79ms/step - loss: 2.3920 - acc: 0.2829 - val_loss: 2.5885 - val_acc: 0.1623\n",
            "Epoch 2/60\n",
            "781/781 [==============================] - 56s 72ms/step - loss: 1.7248 - acc: 0.3745 - val_loss: 1.6080 - val_acc: 0.4083\n",
            "Epoch 3/60\n",
            "781/781 [==============================] - 56s 72ms/step - loss: 1.4744 - acc: 0.4632 - val_loss: 1.5274 - val_acc: 0.4692\n",
            "Epoch 4/60\n",
            "781/781 [==============================] - 56s 72ms/step - loss: 1.3370 - acc: 0.5199 - val_loss: 1.2933 - val_acc: 0.5392\n",
            "Epoch 5/60\n",
            "781/781 [==============================] - 56s 71ms/step - loss: 1.2182 - acc: 0.5649 - val_loss: 1.3360 - val_acc: 0.5545\n",
            "Epoch 6/60\n",
            "781/781 [==============================] - 56s 72ms/step - loss: 1.1144 - acc: 0.6022 - val_loss: 1.2263 - val_acc: 0.5946\n",
            "Epoch 7/60\n",
            "781/781 [==============================] - 56s 72ms/step - loss: 1.0080 - acc: 0.6416 - val_loss: 1.0300 - val_acc: 0.6704\n",
            "Epoch 8/60\n",
            "781/781 [==============================] - 56s 72ms/step - loss: 0.9103 - acc: 0.6804 - val_loss: 1.0171 - val_acc: 0.6690\n",
            "Epoch 9/60\n",
            "781/781 [==============================] - 59s 75ms/step - loss: 0.8364 - acc: 0.7070 - val_loss: 1.1132 - val_acc: 0.6744\n",
            "Epoch 10/60\n",
            "781/781 [==============================] - 58s 74ms/step - loss: 0.7709 - acc: 0.7292 - val_loss: 0.8642 - val_acc: 0.7225\n",
            "Epoch 11/60\n",
            "781/781 [==============================] - 58s 74ms/step - loss: 0.7130 - acc: 0.7505 - val_loss: 0.7937 - val_acc: 0.7434\n",
            "Epoch 12/60\n",
            "781/781 [==============================] - 57s 73ms/step - loss: 0.6702 - acc: 0.7656 - val_loss: 0.7319 - val_acc: 0.7631\n",
            "Epoch 13/60\n",
            "781/781 [==============================] - 56s 72ms/step - loss: 0.6211 - acc: 0.7824 - val_loss: 0.7156 - val_acc: 0.7698\n",
            "Epoch 14/60\n",
            "781/781 [==============================] - 56s 71ms/step - loss: 0.5837 - acc: 0.7976 - val_loss: 0.6726 - val_acc: 0.7824\n",
            "Epoch 15/60\n",
            "781/781 [==============================] - 56s 71ms/step - loss: 0.5496 - acc: 0.8092 - val_loss: 0.6901 - val_acc: 0.7828\n",
            "Epoch 16/60\n",
            "781/781 [==============================] - 56s 72ms/step - loss: 0.5220 - acc: 0.8196 - val_loss: 0.6670 - val_acc: 0.7924\n",
            "Epoch 17/60\n",
            "781/781 [==============================] - 58s 74ms/step - loss: 0.4898 - acc: 0.8284 - val_loss: 0.7082 - val_acc: 0.7882\n",
            "Epoch 18/60\n",
            "781/781 [==============================] - 59s 75ms/step - loss: 0.4628 - acc: 0.8397 - val_loss: 0.7070 - val_acc: 0.7836\n",
            "Epoch 19/60\n",
            "781/781 [==============================] - 58s 74ms/step - loss: 0.4413 - acc: 0.8457 - val_loss: 0.6250 - val_acc: 0.8070\n",
            "Epoch 20/60\n",
            "781/781 [==============================] - 56s 72ms/step - loss: 0.4291 - acc: 0.8522 - val_loss: 0.6835 - val_acc: 0.8047\n",
            "Epoch 21/60\n",
            "781/781 [==============================] - 57s 73ms/step - loss: 0.3991 - acc: 0.8607 - val_loss: 0.5692 - val_acc: 0.8227\n",
            "Epoch 22/60\n",
            "781/781 [==============================] - 56s 72ms/step - loss: 0.3766 - acc: 0.8682 - val_loss: 0.7280 - val_acc: 0.8079\n",
            "Epoch 23/60\n",
            "781/781 [==============================] - 56s 72ms/step - loss: 0.3606 - acc: 0.8754 - val_loss: 0.5999 - val_acc: 0.8236\n",
            "Epoch 24/60\n",
            "781/781 [==============================] - 56s 72ms/step - loss: 0.3395 - acc: 0.8794 - val_loss: 0.6427 - val_acc: 0.8132\n",
            "Epoch 25/60\n",
            "781/781 [==============================] - 56s 71ms/step - loss: 0.3225 - acc: 0.8870 - val_loss: 0.7874 - val_acc: 0.8029\n",
            "Epoch 26/60\n",
            "781/781 [==============================] - 55s 71ms/step - loss: 0.3105 - acc: 0.8906 - val_loss: 0.6175 - val_acc: 0.8250\n",
            "Epoch 27/60\n",
            "781/781 [==============================] - 56s 71ms/step - loss: 0.3025 - acc: 0.8957 - val_loss: 0.6375 - val_acc: 0.8361\n",
            "Epoch 28/60\n",
            "781/781 [==============================] - 59s 76ms/step - loss: 0.2836 - acc: 0.9004 - val_loss: 0.6498 - val_acc: 0.8309\n",
            "Epoch 29/60\n",
            "781/781 [==============================] - 57s 73ms/step - loss: 0.2722 - acc: 0.9040 - val_loss: 0.6167 - val_acc: 0.8235\n",
            "Epoch 30/60\n",
            "781/781 [==============================] - 58s 74ms/step - loss: 0.2637 - acc: 0.9071 - val_loss: 0.7566 - val_acc: 0.8102\n",
            "Epoch 31/60\n",
            "781/781 [==============================] - 56s 72ms/step - loss: 0.2523 - acc: 0.9117 - val_loss: 0.5743 - val_acc: 0.8454\n",
            "Epoch 32/60\n",
            "781/781 [==============================] - 56s 72ms/step - loss: 0.2410 - acc: 0.9157 - val_loss: 0.6034 - val_acc: 0.8365\n",
            "Epoch 33/60\n",
            "781/781 [==============================] - 56s 72ms/step - loss: 0.2331 - acc: 0.9191 - val_loss: 0.6114 - val_acc: 0.8393\n",
            "Epoch 34/60\n",
            "781/781 [==============================] - 56s 72ms/step - loss: 0.2162 - acc: 0.9243 - val_loss: 0.6019 - val_acc: 0.8361\n",
            "Epoch 35/60\n",
            "781/781 [==============================] - 56s 72ms/step - loss: 0.2087 - acc: 0.9266 - val_loss: 0.6419 - val_acc: 0.8341\n",
            "Epoch 36/60\n",
            "781/781 [==============================] - 56s 72ms/step - loss: 0.2044 - acc: 0.9290 - val_loss: 0.5650 - val_acc: 0.8446\n",
            "Epoch 37/60\n",
            "781/781 [==============================] - 56s 72ms/step - loss: 0.1957 - acc: 0.9305 - val_loss: 0.5713 - val_acc: 0.8482\n",
            "Epoch 38/60\n",
            "781/781 [==============================] - 55s 71ms/step - loss: 0.1874 - acc: 0.9359 - val_loss: 0.5819 - val_acc: 0.8479\n",
            "Epoch 39/60\n",
            "781/781 [==============================] - 56s 72ms/step - loss: 0.1758 - acc: 0.9383 - val_loss: 0.6448 - val_acc: 0.8476\n",
            "Epoch 40/60\n",
            "781/781 [==============================] - 59s 76ms/step - loss: 0.1779 - acc: 0.9387 - val_loss: 0.6151 - val_acc: 0.8465\n",
            "Epoch 41/60\n",
            "781/781 [==============================] - 57s 73ms/step - loss: 0.1704 - acc: 0.9406 - val_loss: 0.6198 - val_acc: 0.8403\n",
            "Epoch 42/60\n",
            "781/781 [==============================] - 57s 73ms/step - loss: 0.1597 - acc: 0.9436 - val_loss: 0.5646 - val_acc: 0.8527\n",
            "Epoch 43/60\n",
            "781/781 [==============================] - 57s 73ms/step - loss: 0.1591 - acc: 0.9450 - val_loss: 0.5492 - val_acc: 0.8554\n",
            "Epoch 44/60\n",
            "781/781 [==============================] - 56s 72ms/step - loss: 0.1433 - acc: 0.9498 - val_loss: 0.6011 - val_acc: 0.8529\n",
            "Epoch 45/60\n",
            "781/781 [==============================] - 56s 71ms/step - loss: 0.1494 - acc: 0.9476 - val_loss: 0.5847 - val_acc: 0.8473\n",
            "Epoch 46/60\n",
            "781/781 [==============================] - 56s 72ms/step - loss: 0.1407 - acc: 0.9508 - val_loss: 0.5897 - val_acc: 0.8556\n",
            "Epoch 47/60\n",
            "781/781 [==============================] - 56s 72ms/step - loss: 0.1325 - acc: 0.9542 - val_loss: 0.5899 - val_acc: 0.8513\n",
            "Epoch 48/60\n",
            "781/781 [==============================] - 56s 72ms/step - loss: 0.1306 - acc: 0.9554 - val_loss: 0.5647 - val_acc: 0.8560\n",
            "Epoch 49/60\n",
            "781/781 [==============================] - 55s 71ms/step - loss: 0.1356 - acc: 0.9524 - val_loss: 0.6351 - val_acc: 0.8532\n",
            "Epoch 50/60\n",
            "781/781 [==============================] - 59s 75ms/step - loss: 0.1233 - acc: 0.9570 - val_loss: 0.5944 - val_acc: 0.8523\n",
            "Epoch 51/60\n",
            "781/781 [==============================] - 57s 73ms/step - loss: 0.1173 - acc: 0.9586 - val_loss: 0.6372 - val_acc: 0.8502\n",
            "Epoch 52/60\n",
            "781/781 [==============================] - 57s 73ms/step - loss: 0.1167 - acc: 0.9581 - val_loss: 0.6387 - val_acc: 0.8520\n",
            "Epoch 53/60\n",
            "781/781 [==============================] - 56s 72ms/step - loss: 0.1130 - acc: 0.9611 - val_loss: 0.6156 - val_acc: 0.8574\n",
            "Epoch 54/60\n",
            "781/781 [==============================] - 56s 72ms/step - loss: 0.1058 - acc: 0.9629 - val_loss: 0.6335 - val_acc: 0.8542\n",
            "Epoch 55/60\n",
            "781/781 [==============================] - 56s 72ms/step - loss: 0.1117 - acc: 0.9614 - val_loss: 0.6324 - val_acc: 0.8552\n",
            "Epoch 56/60\n",
            "781/781 [==============================] - 56s 71ms/step - loss: 0.1038 - acc: 0.9641 - val_loss: 0.6387 - val_acc: 0.8563\n",
            "Epoch 57/60\n",
            "781/781 [==============================] - 56s 72ms/step - loss: 0.0992 - acc: 0.9651 - val_loss: 0.5666 - val_acc: 0.8647\n",
            "Epoch 58/60\n",
            "781/781 [==============================] - 56s 71ms/step - loss: 0.0932 - acc: 0.9678 - val_loss: 0.6728 - val_acc: 0.8551\n",
            "Epoch 59/60\n",
            "781/781 [==============================] - 56s 72ms/step - loss: 0.0949 - acc: 0.9666 - val_loss: 0.6186 - val_acc: 0.8559\n",
            "Epoch 60/60\n",
            "781/781 [==============================] - 60s 76ms/step - loss: 0.0902 - acc: 0.9688 - val_loss: 0.6148 - val_acc: 0.8583\n",
            "10000/10000 [==============================] - 4s 417us/step\n"
          ],
          "name": "stdout"
        },
        {
          "output_type": "execute_result",
          "data": {
            "text/plain": [
              "[0.6147665899574757, 0.8583]"
            ]
          },
          "metadata": {
            "tags": []
          },
          "execution_count": 4
        }
      ]
    },
    {
      "metadata": {
        "id": "PaZWwDwabyRD",
        "colab_type": "code",
        "colab": {
          "base_uri": "https://localhost:8080/",
          "height": 73
        },
        "outputId": "ef396de1-5046-4535-d75c-6425395a2294"
      },
      "cell_type": "code",
      "source": [
        "# Buffered data was truncated after reaching the output size limit\n",
        "scores = vgg.evaluate(x_test, y_test, batch_size=128, verbose=1)\n",
        "print('\\nTest result: %.3f loss: %.3f' % (scores[1]*100,scores[0]))"
      ],
      "execution_count": 11,
      "outputs": [
        {
          "output_type": "stream",
          "text": [
            "10000/10000 [==============================] - 3s 287us/step\n",
            "\n",
            "Test result: 85.830 loss: 0.615\n"
          ],
          "name": "stdout"
        }
      ]
    }
  ]
}