{
  "nbformat": 4,
  "nbformat_minor": 0,
  "metadata": {
    "colab": {
      "name": "Untitled0.ipynb",
      "version": "0.3.2",
      "provenance": [],
      "collapsed_sections": []
    },
    "kernelspec": {
      "name": "python3",
      "display_name": "Python 3"
    },
    "accelerator": "GPU"
  },
  "cells": [
    {
      "metadata": {
        "id": "zdAGT7bN9zYd",
        "colab_type": "code",
        "colab": {
          "base_uri": "https://localhost:8080/",
          "height": 35
        },
        "outputId": "2085cd58-6020-4d7b-bc01-823e21f97ff6"
      },
      "cell_type": "code",
      "source": [
        "import tensorflow as tf\n",
        "from tensorflow.keras.layers import *\n",
        "from tensorflow.keras import models, regularizers\n",
        "from keras.preprocessing.image import ImageDataGenerator\n",
        "from keras.utils import np_utils"
      ],
      "execution_count": 1,
      "outputs": [
        {
          "output_type": "stream",
          "text": [
            "Using TensorFlow backend.\n"
          ],
          "name": "stderr"
        }
      ]
    },
    {
      "metadata": {
        "id": "M6TXDJY6irp5",
        "colab_type": "code",
        "colab": {
          "base_uri": "https://localhost:8080/",
          "height": 35
        },
        "outputId": "19841249-7632-4f5f-860b-3ab19ccd01cf"
      },
      "cell_type": "code",
      "source": [
        "cifar10 = tf.keras.datasets.cifar10\n",
        "(x_train, y_train), (x_test, y_test) = cifar10.load_data()\n",
        "\n",
        "num_train = int(x_train.shape[0] * 0.8)\n",
        "num_val = x_train.shape[0] - num_train\n",
        "mask = list(range(num_train, num_train+num_val))\n",
        "x_val = x_train[mask]\n",
        "y_val = y_train[mask]\n",
        "\n",
        "mask = list(range(num_train))\n",
        "x_train = x_train[mask]\n",
        "y_train = y_train[mask]\n",
        "print(x_train.shape)"
      ],
      "execution_count": 2,
      "outputs": [
        {
          "output_type": "stream",
          "text": [
            "(40000, 32, 32, 3)\n"
          ],
          "name": "stdout"
        }
      ]
    },
    {
      "metadata": {
        "id": "-SDzJSBRoSGu",
        "colab_type": "code",
        "colab": {}
      },
      "cell_type": "code",
      "source": [
        "def conv2d_bn_relu(x, filters, kernel_size, name, weight_decay=.0, strides=(1, 1), use_bn=True):\n",
        "    conv_name = name + \"-conv\"\n",
        "    x = Conv2D(filters=filters,\n",
        "               kernel_size=kernel_size,\n",
        "               strides=strides,\n",
        "               padding='same',\n",
        "               use_bias=False,\n",
        "               kernel_regularizer=regularizers.l2(weight_decay),\n",
        "               name=conv_name)(x)\n",
        "    if use_bn:\n",
        "        bn_name = name + \"-bn\"\n",
        "        x = BatchNormalization(scale=False, axis=3, name=bn_name)(x)\n",
        "    relu_name = name + \"-relu\"\n",
        "    x = Activation('relu', name=relu_name)(x)\n",
        "    return x"
      ],
      "execution_count": 0,
      "outputs": []
    },
    {
      "metadata": {
        "id": "xBlxAkUs3I-T",
        "colab_type": "code",
        "colab": {}
      },
      "cell_type": "code",
      "source": [
        "def inception_block(x, filters_num_array, name, weight_decay=.0, use_bn=True):\n",
        "    (br0_filters, br1_filters, br2_filters, br3_filters) = filters_num_array\n",
        "    # br0\n",
        "    br0 = conv2d_bn_relu(x,\n",
        "                         filters=br0_filters, kernel_size=(1, 1), weight_decay=weight_decay,\n",
        "                         name=name + '-br0-1x1', use_bn=use_bn)\n",
        "\n",
        "    # br1\n",
        "    br1 = conv2d_bn_relu(x,\n",
        "                         filters=br1_filters[0], kernel_size=(1, 1), weight_decay=weight_decay,\n",
        "                         name=name + '-br1-1x1', use_bn=use_bn)\n",
        "    br1 = conv2d_bn_relu(br1,\n",
        "                         filters=br1_filters[1], kernel_size=(3, 3), weight_decay=weight_decay,\n",
        "                         name=name + '-br1-3x3', use_bn=use_bn)\n",
        "\n",
        "    # br2\n",
        "    br2 = conv2d_bn_relu(x,\n",
        "                         filters=br2_filters[0], kernel_size=(1, 1), weight_decay=weight_decay,\n",
        "                         name=name + '-br2-1x1', use_bn=use_bn)\n",
        "    br2 = conv2d_bn_relu(br2, filters=br2_filters[1], kernel_size=(5, 5), name=name + '-br2-5x5', use_bn=use_bn)\n",
        "\n",
        "    # br3\n",
        "    br3 = MaxPooling2D(pool_size=(3, 3), strides=(1, 1), padding='same', name=name + '-br3-pool')(x)\n",
        "    br3 = conv2d_bn_relu(br3, filters=br3_filters, kernel_size=(1, 1), weight_decay=weight_decay, name=name + '-br3-1x1')\n",
        "\n",
        "    x = concatenate([br0, br1, br2, br3], axis=3, name=name)\n",
        "    return x"
      ],
      "execution_count": 0,
      "outputs": []
    },
    {
      "metadata": {
        "id": "pneSt7ZCpVMY",
        "colab_type": "code",
        "colab": {}
      },
      "cell_type": "code",
      "source": [
        "def Inception_V1(input_shape, classes, weight_decay=.0, use_bn=True):\n",
        "    input = Input(shape=input_shape)\n",
        "    x = input\n",
        "\n",
        "    x = conv2d_bn_relu(x,\n",
        "                       filters=64, kernel_size=(1, 1), weight_decay=weight_decay,\n",
        "                       name='2a', use_bn=use_bn)\n",
        "    x = conv2d_bn_relu(x, filters=192, kernel_size=(3, 3), weight_decay=weight_decay,\n",
        "                       name='2b', use_bn=use_bn)\n",
        "\n",
        "    # inception3a\n",
        "    x = inception_block(x, (64, (96, 128), (16, 32), 32),\n",
        "                           weight_decay=weight_decay,\n",
        "                           name='inception3a', use_bn=use_bn)\n",
        "    # inception3b\n",
        "    x = inception_block(x, (128, (128, 192), (32, 96), 64),\n",
        "                           weight_decay=weight_decay,\n",
        "                           name='inception3b', use_bn=use_bn)\n",
        "    x = MaxPool2D(pool_size=(3, 3), strides=(2, 2), padding='same', name='3pool')(x)\n",
        "\n",
        "    # inception4a\n",
        "    x = inception_block(x, (192, (96, 208), (16, 48), 64),\n",
        "                           weight_decay=weight_decay,\n",
        "                           name='inception4a', use_bn=use_bn)\n",
        "    # inception4b\n",
        "    x = inception_block(x, (160, (112, 224), (24, 64), 64),\n",
        "                           weight_decay=weight_decay,\n",
        "                           name='inception4b', use_bn=True)\n",
        "    # inception4c\n",
        "    x = inception_block(x, (128, (128, 256), (24, 64), 64),\n",
        "                           weight_decay=weight_decay,\n",
        "                           name='inception4c', use_bn=use_bn)\n",
        "    # inception4d\n",
        "    x = inception_block(x, (112, (144, 288), (32, 64), 64),\n",
        "                           weight_decay=weight_decay,\n",
        "                           name='inception4d', use_bn=use_bn)\n",
        "    # inception4e\n",
        "    x = inception_block(x, (256, (160, 320), (32, 128), 128),\n",
        "                           weight_decay=weight_decay,\n",
        "                           name='inception4e', use_bn=use_bn)\n",
        "    x = MaxPool2D(pool_size=(3, 3), strides=(2, 2), padding='same', name='4pool')(x)\n",
        "\n",
        "    # inception5a\n",
        "    x = inception_block(x, (256, (160, 320), (32, 128), 128),\n",
        "                           weight_decay=weight_decay,\n",
        "                           name='inception5a', use_bn=use_bn)\n",
        "    # inception5b\n",
        "    x = inception_block(x, (384, (192, 384), (48, 128), 128),\n",
        "                           weight_decay=weight_decay,\n",
        "                           name='inception5b', use_bn=use_bn)\n",
        "\n",
        "    # average pool\n",
        "    x = AveragePooling2D(pool_size=(8, 8), strides=(1, 1), padding='valid', name='avg8x8')(x)\n",
        "    x = Flatten(name='flatten')(x)\n",
        "    x = Dense(classes, activation='softmax', name='predictions')(x)\n",
        "    model = models.Model(input, x, name='inception_v1')\n",
        "    return model"
      ],
      "execution_count": 0,
      "outputs": []
    },
    {
      "metadata": {
        "id": "LTzKO7gzVspt",
        "colab_type": "code",
        "colab": {
          "base_uri": "https://localhost:8080/",
          "height": 71
        },
        "outputId": "cd7033c3-b24b-4ea7-dcfa-5eb995c26de1"
      },
      "cell_type": "code",
      "source": [
        "weight_decay = 5e-4\n",
        "lr = 1e-1\n",
        "num_classes = 10\n",
        "model = Inception_V1(input_shape=(32, 32, 3), classes=num_classes, weight_decay=weight_decay)\n",
        "sgd = tf.keras.optimizers.SGD(lr=lr, momentum=0.9, nesterov=False)\n",
        "model.compile(optimizer=sgd,\n",
        "              loss='sparse_categorical_crossentropy',\n",
        "              metrics=['accuracy'])"
      ],
      "execution_count": 6,
      "outputs": [
        {
          "output_type": "stream",
          "text": [
            "WARNING:tensorflow:From /usr/local/lib/python3.6/dist-packages/tensorflow/python/ops/resource_variable_ops.py:435: colocate_with (from tensorflow.python.framework.ops) is deprecated and will be removed in a future version.\n",
            "Instructions for updating:\n",
            "Colocations handled automatically by placer.\n"
          ],
          "name": "stdout"
        }
      ]
    },
    {
      "metadata": {
        "id": "YxboI1QokUKH",
        "colab_type": "code",
        "colab": {
          "base_uri": "https://localhost:8080/",
          "height": 1667
        },
        "outputId": "4caeff1f-7624-46f3-9087-2daef2c0773f"
      },
      "cell_type": "code",
      "source": [
        "datagen = ImageDataGenerator(horizontal_flip=True, \n",
        "                             width_shift_range=0.1, \n",
        "                             height_shift_range=0.1)\n",
        "\n",
        "datagen.fit(x_train)\n",
        "\n",
        "model.fit_generator(datagen.flow(x_train, y_train, batch_size=128),\n",
        "                    steps_per_epoch=x_train.shape[0] // 128,\n",
        "                    epochs=30,\n",
        "                    verbose=1,\n",
        "                    validation_data=(x_val, y_val))"
      ],
      "execution_count": 7,
      "outputs": [
        {
          "output_type": "stream",
          "text": [
            "Epoch 1/30\n",
            "10000/10000 [==============================] - 25s 2ms/sample - loss: 11.5715 - acc: 0.1727\n",
            "313/313 [==============================] - 352s 1s/step - loss: 5.7111 - acc: 0.2729 - val_loss: 11.5488 - val_acc: 0.1727\n",
            "Epoch 2/30\n",
            "10000/10000 [==============================] - 24s 2ms/sample - loss: 4.6026 - acc: 0.1253\n",
            "313/313 [==============================] - 337s 1s/step - loss: 3.8446 - acc: 0.3994 - val_loss: 4.6060 - val_acc: 0.1253\n",
            "Epoch 3/30\n",
            "10000/10000 [==============================] - 24s 2ms/sample - loss: 3.8050 - acc: 0.2277\n",
            "313/313 [==============================] - 338s 1s/step - loss: 2.5931 - acc: 0.5078 - val_loss: 3.8104 - val_acc: 0.2277\n",
            "Epoch 4/30\n",
            "10000/10000 [==============================] - 24s 2ms/sample - loss: 3.7798 - acc: 0.2364\n",
            "313/313 [==============================] - 338s 1s/step - loss: 1.8874 - acc: 0.5939 - val_loss: 3.7822 - val_acc: 0.2364\n",
            "Epoch 5/30\n",
            "10000/10000 [==============================] - 24s 2ms/sample - loss: 2.3694 - acc: 0.4077\n",
            "313/313 [==============================] - 338s 1s/step - loss: 1.5060 - acc: 0.6482 - val_loss: 2.3693 - val_acc: 0.4077\n",
            "Epoch 6/30\n",
            "10000/10000 [==============================] - 24s 2ms/sample - loss: 1.9866 - acc: 0.4938\n",
            "313/313 [==============================] - 338s 1s/step - loss: 1.2610 - acc: 0.6963 - val_loss: 1.9857 - val_acc: 0.4938\n",
            "Epoch 7/30\n",
            "10000/10000 [==============================] - 24s 2ms/sample - loss: 2.3282 - acc: 0.4083\n",
            "313/313 [==============================] - 339s 1s/step - loss: 1.1005 - acc: 0.7332 - val_loss: 2.3325 - val_acc: 0.4083\n",
            "Epoch 8/30\n",
            "10000/10000 [==============================] - 24s 2ms/sample - loss: 1.2079 - acc: 0.6979\n",
            "313/313 [==============================] - 338s 1s/step - loss: 1.0052 - acc: 0.7621 - val_loss: 1.2103 - val_acc: 0.6979\n",
            "Epoch 9/30\n",
            "10000/10000 [==============================] - 24s 2ms/sample - loss: 1.5088 - acc: 0.6173\n",
            "313/313 [==============================] - 337s 1s/step - loss: 0.9342 - acc: 0.7868 - val_loss: 1.5140 - val_acc: 0.6173\n",
            "Epoch 10/30\n",
            "10000/10000 [==============================] - 24s 2ms/sample - loss: 1.2652 - acc: 0.6606\n",
            "313/313 [==============================] - 337s 1s/step - loss: 0.8938 - acc: 0.8007 - val_loss: 1.2653 - val_acc: 0.6606\n",
            "Epoch 11/30\n",
            "10000/10000 [==============================] - 24s 2ms/sample - loss: 1.8863 - acc: 0.5798\n",
            "313/313 [==============================] - 338s 1s/step - loss: 0.8728 - acc: 0.8087 - val_loss: 1.8812 - val_acc: 0.5798\n",
            "Epoch 12/30\n",
            "10000/10000 [==============================] - 24s 2ms/sample - loss: 1.7180 - acc: 0.5582\n",
            "313/313 [==============================] - 338s 1s/step - loss: 0.8456 - acc: 0.8185 - val_loss: 1.7227 - val_acc: 0.5582\n",
            "Epoch 13/30\n",
            "10000/10000 [==============================] - 24s 2ms/sample - loss: 1.2725 - acc: 0.6787\n",
            "313/313 [==============================] - 338s 1s/step - loss: 0.8241 - acc: 0.8268 - val_loss: 1.2789 - val_acc: 0.6787\n",
            "Epoch 14/30\n",
            "10000/10000 [==============================] - 24s 2ms/sample - loss: 1.3270 - acc: 0.6780\n",
            "313/313 [==============================] - 337s 1s/step - loss: 0.8107 - acc: 0.8346 - val_loss: 1.3326 - val_acc: 0.6780\n",
            "Epoch 15/30\n",
            "10000/10000 [==============================] - 24s 2ms/sample - loss: 1.4053 - acc: 0.6777\n",
            "313/313 [==============================] - 338s 1s/step - loss: 0.8029 - acc: 0.8386 - val_loss: 1.4039 - val_acc: 0.6777\n",
            "Epoch 16/30\n",
            "10000/10000 [==============================] - 24s 2ms/sample - loss: 2.0878 - acc: 0.5504\n",
            "313/313 [==============================] - 338s 1s/step - loss: 0.7820 - acc: 0.8433 - val_loss: 2.0896 - val_acc: 0.5504\n",
            "Epoch 17/30\n",
            "10000/10000 [==============================] - 24s 2ms/sample - loss: 1.5343 - acc: 0.6444\n",
            "313/313 [==============================] - 338s 1s/step - loss: 0.7705 - acc: 0.8479 - val_loss: 1.5366 - val_acc: 0.6444\n",
            "Epoch 18/30\n",
            "10000/10000 [==============================] - 24s 2ms/sample - loss: 1.8703 - acc: 0.6073\n",
            "313/313 [==============================] - 338s 1s/step - loss: 0.7710 - acc: 0.8523 - val_loss: 1.8770 - val_acc: 0.6073\n",
            "Epoch 19/30\n",
            "10000/10000 [==============================] - 24s 2ms/sample - loss: 1.5762 - acc: 0.5936\n",
            "313/313 [==============================] - 338s 1s/step - loss: 0.7520 - acc: 0.8555 - val_loss: 1.5753 - val_acc: 0.5936\n",
            "Epoch 20/30\n",
            "10000/10000 [==============================] - 24s 2ms/sample - loss: 1.1663 - acc: 0.7130\n",
            "313/313 [==============================] - 337s 1s/step - loss: 0.7438 - acc: 0.8601 - val_loss: 1.1690 - val_acc: 0.7130\n",
            "Epoch 21/30\n",
            "10000/10000 [==============================] - 24s 2ms/sample - loss: 1.4064 - acc: 0.6528\n",
            "313/313 [==============================] - 338s 1s/step - loss: 0.7343 - acc: 0.8624 - val_loss: 1.4046 - val_acc: 0.6528\n",
            "Epoch 22/30\n",
            "10000/10000 [==============================] - 24s 2ms/sample - loss: 1.1996 - acc: 0.7236\n",
            "313/313 [==============================] - 338s 1s/step - loss: 0.7317 - acc: 0.8645 - val_loss: 1.2007 - val_acc: 0.7236\n",
            "Epoch 23/30\n",
            "10000/10000 [==============================] - 24s 2ms/sample - loss: 1.4469 - acc: 0.6225\n",
            "313/313 [==============================] - 338s 1s/step - loss: 0.7254 - acc: 0.8676 - val_loss: 1.4497 - val_acc: 0.6225\n",
            "Epoch 24/30\n",
            "10000/10000 [==============================] - 24s 2ms/sample - loss: 1.4506 - acc: 0.6787\n",
            "313/313 [==============================] - 338s 1s/step - loss: 0.7128 - acc: 0.8717 - val_loss: 1.4508 - val_acc: 0.6787\n",
            "Epoch 25/30\n",
            "10000/10000 [==============================] - 24s 2ms/sample - loss: 1.4494 - acc: 0.6266\n",
            "313/313 [==============================] - 338s 1s/step - loss: 0.7034 - acc: 0.8737 - val_loss: 1.4489 - val_acc: 0.6266\n",
            "Epoch 26/30\n",
            "10000/10000 [==============================] - 24s 2ms/sample - loss: 1.8933 - acc: 0.5425\n",
            "313/313 [==============================] - 338s 1s/step - loss: 0.7014 - acc: 0.8751 - val_loss: 1.8946 - val_acc: 0.5425\n",
            "Epoch 27/30\n",
            "10000/10000 [==============================] - 24s 2ms/sample - loss: 1.9488 - acc: 0.5390\n",
            "313/313 [==============================] - 338s 1s/step - loss: 0.6959 - acc: 0.8751 - val_loss: 1.9443 - val_acc: 0.5390\n",
            "Epoch 28/30\n",
            "10000/10000 [==============================] - 24s 2ms/sample - loss: 0.9439 - acc: 0.7938\n",
            "313/313 [==============================] - 338s 1s/step - loss: 0.7015 - acc: 0.8747 - val_loss: 0.9464 - val_acc: 0.7938\n",
            "Epoch 29/30\n",
            "10000/10000 [==============================] - 24s 2ms/sample - loss: 1.0606 - acc: 0.7629\n",
            "313/313 [==============================] - 338s 1s/step - loss: 0.6862 - acc: 0.8790 - val_loss: 1.0620 - val_acc: 0.7629\n",
            "Epoch 30/30\n",
            "10000/10000 [==============================] - 24s 2ms/sample - loss: 1.4369 - acc: 0.6532\n",
            "313/313 [==============================] - 338s 1s/step - loss: 0.6777 - acc: 0.8818 - val_loss: 1.4423 - val_acc: 0.6532\n"
          ],
          "name": "stdout"
        },
        {
          "output_type": "execute_result",
          "data": {
            "text/plain": [
              "<tensorflow.python.keras.callbacks.History at 0x7f76f4e90748>"
            ]
          },
          "metadata": {
            "tags": []
          },
          "execution_count": 7
        }
      ]
    },
    {
      "metadata": {
        "id": "ZCcnh5QHkaA3",
        "colab_type": "code",
        "colab": {
          "base_uri": "https://localhost:8080/",
          "height": 53
        },
        "outputId": "5a5ad9ac-6058-4a28-b066-db14efe1011c"
      },
      "cell_type": "code",
      "source": [
        "model.evaluate(x_test, y_test)"
      ],
      "execution_count": 8,
      "outputs": [
        {
          "output_type": "stream",
          "text": [
            "10000/10000 [==============================] - 30s 3ms/sample - loss: 1.4598 - acc: 0.6449\n"
          ],
          "name": "stdout"
        },
        {
          "output_type": "execute_result",
          "data": {
            "text/plain": [
              "[1.4598083019256591, 0.6449]"
            ]
          },
          "metadata": {
            "tags": []
          },
          "execution_count": 8
        }
      ]
    }
  ]
}