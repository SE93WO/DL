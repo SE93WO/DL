{
 "cells": [
  {
   "cell_type": "code",
   "execution_count": null,
   "metadata": {},
   "outputs": [],
   "source": [
    "import tensorflow as tf\n",
    "mnist = tf.keras.datasets.mnist\n",
    "\n",
    "config = tf.ConfigProto()\n",
    "config.gpu_options.allow_growth = True\n",
    "session = tf.Session(config=config)"
   ]
  },
  {
   "cell_type": "code",
   "execution_count": null,
   "metadata": {},
   "outputs": [],
   "source": [
    "(x_train, y_train), (x_test, y_test) = mnist.load_data()\n",
    "x_train, x_test = x_train / 255.0, x_test /  255.0\n",
    "\n",
    "x_train = x_train.reshape(x_train.shape[0], 28, 28, 1)\n",
    "x_test = x_test.reshape(x_test.shape[0], 28, 28, 1)"
   ]
  },
  {
   "cell_type": "code",
   "execution_count": null,
   "metadata": {},
   "outputs": [],
   "source": [
    "vgg16 = tf.keras.models.Sequential()\n",
    "\n",
    "# Layer 1\n",
    "vgg16.add(tf.layers.Conv2D(32,\n",
    "                             kernel_size=(3, 3),\n",
    "                             padding='same', \n",
    "                             input_shape = (28, 28, 1), \n",
    "                             activation=tf.nn.relu))\n",
    "vgg16.add(tf.layers.Conv2D(32,\n",
    "                             kernel_size=(3, 3),\n",
    "                             padding='same',\n",
    "                             activation=tf.nn.relu))\n",
    "vgg16.add(tf.layers.MaxPooling2D(pool_size=(2, 2), \n",
    "                                   strides=1))\n",
    "\n",
    "# Layer 2\n",
    "vgg16.add(tf.layers.Conv2D(64,\n",
    "                             kernel_size=(3, 3),\n",
    "                             padding='same',\n",
    "                             activation=tf.nn.relu))\n",
    "vgg16.add(tf.layers.Conv2D(64,\n",
    "                             kernel_size=(3, 3),\n",
    "                             padding='same',\n",
    "                             activation=tf.nn.relu))\n",
    "vgg16.add(tf.layers.MaxPooling2D(pool_size=(2, 2), \n",
    "                                   strides=1))\n",
    "\n",
    "# Layer 3\n",
    "vgg16.add(tf.layers.Conv2D(128,\n",
    "                             kernel_size=(3, 3),\n",
    "                             padding='same',\n",
    "                             activation=tf.nn.relu))\n",
    "vgg16.add(tf.layers.Conv2D(128,\n",
    "                             kernel_size=(3, 3),\n",
    "                             padding='same',\n",
    "                             activation=tf.nn.relu))\n",
    "vgg16.add(tf.layers.Conv2D(128,\n",
    "                             kernel_size=(3, 3),\n",
    "                             padding='same',\n",
    "                             activation=tf.nn.relu))\n",
    "vgg16.add(tf.layers.MaxPooling2D(pool_size=(2, 2), \n",
    "                                   strides=1))\n",
    "\n",
    "# Layer 4\n",
    "vgg16.add(tf.layers.Conv2D(256,\n",
    "                             kernel_size=(3, 3),\n",
    "                             padding='same',\n",
    "                             activation=tf.nn.relu))\n",
    "vgg16.add(tf.layers.Conv2D(256,\n",
    "                             kernel_size=(3, 3),\n",
    "                             padding='same',\n",
    "                             activation=tf.nn.relu))\n",
    "vgg16.add(tf.layers.Conv2D(256,\n",
    "                             kernel_size=(3, 3),\n",
    "                             padding='same',\n",
    "                             activation=tf.nn.relu))\n",
    "vgg16.add(tf.layers.MaxPooling2D(pool_size=(2, 2), \n",
    "                                   strides=1))\n",
    "\n",
    "# Layer 5\n",
    "vgg16.add(tf.layers.Conv2D(256,\n",
    "                             kernel_size=(3, 3),\n",
    "                             padding='same',\n",
    "                             activation=tf.nn.relu))\n",
    "vgg16.add(tf.layers.Conv2D(256,\n",
    "                             kernel_size=(3, 3),\n",
    "                             padding='same',\n",
    "                             activation=tf.nn.relu))\n",
    "vgg16.add(tf.layers.Conv2D(256,\n",
    "                             kernel_size=(3, 3),\n",
    "                             padding='same',\n",
    "                             activation=tf.nn.relu))\n",
    "vgg16.add(tf.layers.MaxPooling2D(pool_size=(2, 2), \n",
    "                                   strides=1))\n",
    "\n",
    "# Layer 6\n",
    "vgg16.add(tf.layers.Flatten())\n",
    "vgg16.add(tf.layers.Dense(1024, activation=tf.nn.relu))\n",
    "vgg16.add(tf.layers.Dropout(0.5))\n",
    "vgg16.add(tf.layers.Dense(1024, activation=tf.nn.relu))\n",
    "vgg16.add(tf.layers.Dropout(0.5))\n",
    "vgg16.add(tf.layers.Dense(10, activation=tf.nn.softmax))\n",
    "\n"
   ]
  },
  {
   "cell_type": "code",
   "execution_count": null,
   "metadata": {},
   "outputs": [],
   "source": [
    "sgd = tf.keras.optimizers.SGD(lr=0.1, decay=1e-6, momentum=0.9, nesterov=True)\n",
    "vgg16.compile(optimizer=sgd,\n",
    "              loss='sparse_categorical_crossentropy',\n",
    "              metrics=['accuracy'])"
   ]
  },
  {
   "cell_type": "code",
   "execution_count": null,
   "metadata": {},
   "outputs": [],
   "source": [
    "vgg16.fit(x_train, y_train, epochs=5, batch_size=64)\n",
    "vgg16.evaluate(x_test, y_test)"
   ]
  },
  {
   "cell_type": "code",
   "execution_count": null,
   "metadata": {},
   "outputs": [],
   "source": []
  }
 ],
 "metadata": {
  "kernelspec": {
   "display_name": "Python 3",
   "language": "python",
   "name": "python3"
  },
  "language_info": {
   "codemirror_mode": {
    "name": "ipython",
    "version": 3
   },
   "file_extension": ".py",
   "mimetype": "text/x-python",
   "name": "python",
   "nbconvert_exporter": "python",
   "pygments_lexer": "ipython3",
   "version": "3.5.5"
  }
 },
 "nbformat": 4,
 "nbformat_minor": 2
}
