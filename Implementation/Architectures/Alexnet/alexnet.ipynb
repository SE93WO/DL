{
 "cells": [
  {
   "cell_type": "code",
   "execution_count": 1,
   "metadata": {},
   "outputs": [],
   "source": [
    "import tensorflow as tf\n",
    "\n",
    "mnist = tf.keras.datasets.mnist\n",
    "\n",
    "config = tf.ConfigProto()\n",
    "config.gpu_options.allow_growth = True\n",
    "session = tf.Session(config=config)"
   ]
  },
  {
   "cell_type": "code",
   "execution_count": 2,
   "metadata": {},
   "outputs": [],
   "source": [
    "(x_train, y_train), (x_test, y_test) = mnist.load_data()\n",
    "x_train, x_test = x_train / 255.0, x_test /  255.0\n",
    "\n",
    "x_train = x_train.reshape(x_train.shape[0], 28, 28, 1)\n",
    "x_test = x_test.reshape(x_test.shape[0], 28, 28, 1)"
   ]
  },
  {
   "cell_type": "code",
   "execution_count": 3,
   "metadata": {},
   "outputs": [],
   "source": [
    "alexnet = tf.keras.models.Sequential()\n",
    "\n",
    "# Layer 1\n",
    "alexnet.add(tf.layers.Conv2D(32,\n",
    "                             kernel_size=(3, 3),\n",
    "                             padding='same', \n",
    "                             input_shape = (28, 28, 1), \n",
    "                             activation=tf.nn.relu))\n",
    "alexnet.add(tf.layers.MaxPooling2D(pool_size=(2, 2), \n",
    "                                   strides=1))\n",
    "\n",
    "# Layer 2\n",
    "alexnet.add(tf.layers.Conv2D(64,\n",
    "                             kernel_size=(3, 3),\n",
    "                             padding='same',\n",
    "                             activation=tf.nn.relu))\n",
    "alexnet.add(tf.layers.MaxPooling2D(pool_size=(2, 2),\n",
    "                                   strides=1))\n",
    "# Layer 3\n",
    "alexnet.add(tf.layers.Conv2D(128,\n",
    "                             kernel_size=(3, 3),\n",
    "                             padding='same', \n",
    "                             activation=tf.nn.relu))\n",
    "alexnet.add(tf.layers.MaxPooling2D(pool_size=(2, 2), \n",
    "                                   strides=1))\n",
    "\n",
    "# Layer 4\n",
    "alexnet.add(tf.layers.Flatten())\n",
    "alexnet.add(tf.layers.Dense(512, activation=tf.nn.relu))\n",
    "alexnet.add(tf.layers.Dropout(0.5))\n",
    "\n",
    "# Layer 5\n",
    "alexnet.add(tf.layers.Dense(10, activation=tf.nn.softmax))"
   ]
  },
  {
   "cell_type": "code",
   "execution_count": null,
   "metadata": {},
   "outputs": [],
   "source": [
    "'''\n",
    "# out of memory\n",
    "alexnet = tf.keras.models.Sequential()\n",
    "\n",
    "# Layer 1\n",
    "alexnet.add(tf.layers.Conv2D(32,\n",
    "                             kernel_size=(3, 3),\n",
    "                             padding='same', \n",
    "                             input_shape = (28, 28, 1), \n",
    "                             activation=tf.nn.relu))\n",
    "alexnet.add(tf.layers.MaxPooling2D(pool_size=(2, 2), \n",
    "                                   strides=1))\n",
    "\n",
    "# Layer 2\n",
    "alexnet.add(tf.layers.Conv2D(64,\n",
    "                             kernel_size=(3, 3),\n",
    "                             padding='same',\n",
    "                             activation=tf.nn.relu))\n",
    "alexnet.add(tf.layers.MaxPooling2D(pool_size=(2, 2),\n",
    "                                   strides=1))\n",
    "# Layer 3\n",
    "alexnet.add(tf.layers.Conv2D(128,\n",
    "                             kernel_size=(3, 3),\n",
    "                             padding='same', \n",
    "                             activation=tf.nn.relu))\n",
    "alexnet.add(tf.layers.MaxPooling2D(pool_size=(2, 2), \n",
    "                                   strides=1))\n",
    "\n",
    "# Layer 4\n",
    "alexnet.add(tf.layers.Conv2D(256, \n",
    "                             kernel_size=(3, 3),\n",
    "                             padding='same',\n",
    "                             activation=tf.nn.relu))\n",
    "alexnet.add(tf.layers.MaxPooling2D(pool_size=(2, 2), \n",
    "                                   strides=1))\n",
    "\n",
    "# Layer 5 \n",
    "alexnet.add(tf.layers.Conv2D(512, \n",
    "                             kernel_size=(3, 3),\n",
    "                             padding='same',\n",
    "                             activation=tf.nn.relu))\n",
    "alexnet.add(tf.layers.MaxPooling2D(pool_size=(2, 2), \n",
    "                                   strides=1))\n",
    "# Layer 6\n",
    "alexnet.add(tf.layers.Flatten())\n",
    "alexnet.add(tf.layers.Dense(1024, activation=tf.nn.relu))\n",
    "alexnet.add(tf.layers.Dropout(0.5))\n",
    "\n",
    "# Layer 7\n",
    "alexnet.add(tf.layers.Dense(1024, activation=tf.nn.relu))\n",
    "alexnet.add(tf.layers.Dropout(0.5))\n",
    "\n",
    "# Layer 8\n",
    "alexnet.add(tf.layers.Dense(10, activation=tf.nn.softmax))\n",
    "'''"
   ]
  },
  {
   "cell_type": "code",
   "execution_count": 4,
   "metadata": {},
   "outputs": [],
   "source": [
    "alexnet.compile(optimizer='adam',\n",
    "              loss='sparse_categorical_crossentropy',\n",
    "              metrics=['accuracy'])"
   ]
  },
  {
   "cell_type": "code",
   "execution_count": 5,
   "metadata": {},
   "outputs": [
    {
     "name": "stdout",
     "output_type": "stream",
     "text": [
      "Epoch 1/5\n",
      "60000/60000 [==============================] - 78s 1ms/step - loss: 0.1090 - acc: 0.9682: 10s - loss: 0.1183 - acc: 0.96  - ETA: 0s - loss: 0.1094 - \n",
      "Epoch 2/5\n",
      "60000/60000 [==============================] - 75s 1ms/step - loss: 0.0343 - acc: 0.9892: 3s - loss: 0.0347 - acc: 0. - ETA: 3s - loss: 0.0348 - acc: 0. - ETA: 3s - loss: 0.0347 - a - ETA: 2s - loss: 0.0348  - ETA\n",
      "Epoch 3/5\n",
      "60000/60000 [==============================] - 77s 1ms/step - loss: 0.0236 - acc: 0.9928: 9s - loss: 0.02 - ETA: 6s - loss: 0.0232 - acc - ETA: 5s - loss: 0.0232 \n",
      "Epoch 4/5\n",
      "60000/60000 [==============================] - 75s 1ms/step - loss: 0.0164 - acc: 0.9949\n",
      "Epoch 5/5\n",
      "60000/60000 [==============================] - 72s 1ms/step - loss: 0.0134 - acc: 0.9961TA: 0s - loss: 0.0131 - a\n",
      "10000/10000 [==============================] - 2s 180us/step\n"
     ]
    },
    {
     "data": {
      "text/plain": [
       "[0.0309913040554351, 0.9905]"
      ]
     },
     "execution_count": 5,
     "metadata": {},
     "output_type": "execute_result"
    }
   ],
   "source": [
    "alexnet.fit(x_train, y_train, epochs=5, batch_size=50)\n",
    "alexnet.evaluate(x_test, y_test)"
   ]
  },
  {
   "cell_type": "code",
   "execution_count": null,
   "metadata": {},
   "outputs": [],
   "source": []
  }
 ],
 "metadata": {
  "kernelspec": {
   "display_name": "Python 3",
   "language": "python",
   "name": "python3"
  },
  "language_info": {
   "codemirror_mode": {
    "name": "ipython",
    "version": 3
   },
   "file_extension": ".py",
   "mimetype": "text/x-python",
   "name": "python",
   "nbconvert_exporter": "python",
   "pygments_lexer": "ipython3",
   "version": "3.5.5"
  }
 },
 "nbformat": 4,
 "nbformat_minor": 2
}
