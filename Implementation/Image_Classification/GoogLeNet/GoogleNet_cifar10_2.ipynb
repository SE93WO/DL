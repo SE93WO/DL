{
  "nbformat": 4,
  "nbformat_minor": 0,
  "metadata": {
    "colab": {
      "name": "Untitled0.ipynb",
      "version": "0.3.2",
      "provenance": [],
      "collapsed_sections": []
    },
    "kernelspec": {
      "name": "python3",
      "display_name": "Python 3"
    },
    "accelerator": "GPU"
  },
  "cells": [
    {
      "metadata": {
        "id": "zdAGT7bN9zYd",
        "colab_type": "code",
        "colab": {
          "base_uri": "https://localhost:8080/",
          "height": 35
        },
        "outputId": "5f1b487f-5d53-4654-bd77-e12f570f6aed"
      },
      "cell_type": "code",
      "source": [
        "import tensorflow as tf\n",
        "from tensorflow.keras.layers import *\n",
        "from tensorflow.keras import models, regularizers\n",
        "from keras.preprocessing.image import ImageDataGenerator\n",
        "from keras.utils import np_utils"
      ],
      "execution_count": 1,
      "outputs": [
        {
          "output_type": "stream",
          "text": [
            "Using TensorFlow backend.\n"
          ],
          "name": "stderr"
        }
      ]
    },
    {
      "metadata": {
        "id": "M6TXDJY6irp5",
        "colab_type": "code",
        "colab": {
          "base_uri": "https://localhost:8080/",
          "height": 71
        },
        "outputId": "159dbb93-56c6-40cf-aae3-7cf03227522b"
      },
      "cell_type": "code",
      "source": [
        "cifar10 = tf.keras.datasets.cifar10\n",
        "(x_train, y_train), (x_test, y_test) = cifar10.load_data()\n",
        "\n",
        "num_train = int(x_train.shape[0] * 0.8)\n",
        "num_val = x_train.shape[0] - num_train\n",
        "mask = list(range(num_train, num_train+num_val))\n",
        "x_val = x_train[mask]\n",
        "y_val = y_train[mask]\n",
        "\n",
        "mask = list(range(num_train))\n",
        "x_train = x_train[mask]\n",
        "y_train = y_train[mask]\n",
        "print(x_train.shape)"
      ],
      "execution_count": 2,
      "outputs": [
        {
          "output_type": "stream",
          "text": [
            "Downloading data from https://www.cs.toronto.edu/~kriz/cifar-10-python.tar.gz\n",
            "170500096/170498071 [==============================] - 85s 0us/step\n",
            "(40000, 32, 32, 3)\n"
          ],
          "name": "stdout"
        }
      ]
    },
    {
      "metadata": {
        "id": "-SDzJSBRoSGu",
        "colab_type": "code",
        "colab": {}
      },
      "cell_type": "code",
      "source": [
        "def conv2d_bn_relu(x, filters, kernel_size, name, weight_decay=.0, strides=(1, 1), use_bn=True):\n",
        "    conv_name = name + \"-conv\"\n",
        "    x = Conv2D(filters=filters,\n",
        "               kernel_size=kernel_size,\n",
        "               strides=strides,\n",
        "               padding='same',\n",
        "               use_bias=False,\n",
        "               kernel_regularizer=regularizers.l2(weight_decay),\n",
        "               name=conv_name)(x)\n",
        "    if use_bn:\n",
        "        bn_name = name + \"-bn\"\n",
        "        x = BatchNormalization(scale=False, axis=3, name=bn_name)(x)\n",
        "    relu_name = name + \"-relu\"\n",
        "    x = Activation('relu', name=relu_name)(x)\n",
        "    return x"
      ],
      "execution_count": 0,
      "outputs": []
    },
    {
      "metadata": {
        "id": "xBlxAkUs3I-T",
        "colab_type": "code",
        "colab": {}
      },
      "cell_type": "code",
      "source": [
        "def inception_block(x, filters_num_array, name, weight_decay=.0, use_bn=True):\n",
        "    (br0_filters, br1_filters, br2_filters, br3_filters) = filters_num_array\n",
        "    # br0\n",
        "    br0 = conv2d_bn_relu(x,\n",
        "                         filters=br0_filters, kernel_size=(1, 1), weight_decay=weight_decay,\n",
        "                         name=name + '-br0-1x1', use_bn=use_bn)\n",
        "\n",
        "    # br1\n",
        "    br1 = conv2d_bn_relu(x,\n",
        "                         filters=br1_filters[0], kernel_size=(1, 1), weight_decay=weight_decay,\n",
        "                         name=name + '-br1-1x1', use_bn=use_bn)\n",
        "    br1 = conv2d_bn_relu(br1,\n",
        "                         filters=br1_filters[1], kernel_size=(3, 3), weight_decay=weight_decay,\n",
        "                         name=name + '-br1-3x3', use_bn=use_bn)\n",
        "\n",
        "    # br2\n",
        "    br2 = conv2d_bn_relu(x,\n",
        "                         filters=br2_filters[0], kernel_size=(1, 1), weight_decay=weight_decay,\n",
        "                         name=name + '-br2-1x1', use_bn=use_bn)\n",
        "    br2 = conv2d_bn_relu(br2, filters=br2_filters[1], kernel_size=(5, 5), name=name + '-br2-5x5', use_bn=use_bn)\n",
        "\n",
        "    # br3\n",
        "    br3 = MaxPooling2D(pool_size=(3, 3), strides=(1, 1), padding='same', name=name + '-br3-pool')(x)\n",
        "    br3 = conv2d_bn_relu(br3, filters=br3_filters, kernel_size=(1, 1), weight_decay=weight_decay, name=name + '-br3-1x1')\n",
        "\n",
        "    x = concatenate([br0, br1, br2, br3], axis=3, name=name)\n",
        "    return x"
      ],
      "execution_count": 0,
      "outputs": []
    },
    {
      "metadata": {
        "id": "pneSt7ZCpVMY",
        "colab_type": "code",
        "colab": {}
      },
      "cell_type": "code",
      "source": [
        "def Inception_V1(input_shape, classes, weight_decay=.0, use_bn=True):\n",
        "    input = Input(shape=input_shape)\n",
        "    x = input\n",
        "\n",
        "    x = conv2d_bn_relu(x,\n",
        "                       filters=64, kernel_size=(1, 1), weight_decay=weight_decay,\n",
        "                       name='2a', use_bn=use_bn)\n",
        "    x = conv2d_bn_relu(x, filters=192, kernel_size=(3, 3), weight_decay=weight_decay,\n",
        "                       name='2b', use_bn=use_bn)\n",
        "\n",
        "    # inception3a\n",
        "    x = inception_block(x, (64, (96, 128), (16, 32), 32),\n",
        "                           weight_decay=weight_decay,\n",
        "                           name='inception3a', use_bn=use_bn)\n",
        "    # inception3b\n",
        "    x = inception_block(x, (128, (128, 192), (32, 96), 64),\n",
        "                           weight_decay=weight_decay,\n",
        "                           name='inception3b', use_bn=use_bn)\n",
        "    x = MaxPool2D(pool_size=(3, 3), strides=(2, 2), padding='same', name='3pool')(x)\n",
        "\n",
        "    # inception4a\n",
        "    x = inception_block(x, (192, (96, 208), (16, 48), 64),\n",
        "                           weight_decay=weight_decay,\n",
        "                           name='inception4a', use_bn=use_bn)\n",
        "    # inception4b\n",
        "    x = inception_block(x, (160, (112, 224), (24, 64), 64),\n",
        "                           weight_decay=weight_decay,\n",
        "                           name='inception4b', use_bn=True)\n",
        "    # inception4c\n",
        "    x = inception_block(x, (128, (128, 256), (24, 64), 64),\n",
        "                           weight_decay=weight_decay,\n",
        "                           name='inception4c', use_bn=use_bn)\n",
        "    # inception4d\n",
        "    x = inception_block(x, (112, (144, 288), (32, 64), 64),\n",
        "                           weight_decay=weight_decay,\n",
        "                           name='inception4d', use_bn=use_bn)\n",
        "    # inception4e\n",
        "    x = inception_block(x, (256, (160, 320), (32, 128), 128),\n",
        "                           weight_decay=weight_decay,\n",
        "                           name='inception4e', use_bn=use_bn)\n",
        "    x = MaxPool2D(pool_size=(3, 3), strides=(2, 2), padding='same', name='4pool')(x)\n",
        "\n",
        "    # inception5a\n",
        "    x = inception_block(x, (256, (160, 320), (32, 128), 128),\n",
        "                           weight_decay=weight_decay,\n",
        "                           name='inception5a', use_bn=use_bn)\n",
        "    # inception5b\n",
        "    x = inception_block(x, (384, (192, 384), (48, 128), 128),\n",
        "                           weight_decay=weight_decay,\n",
        "                           name='inception5b', use_bn=use_bn)\n",
        "\n",
        "    # average pool\n",
        "    x = AveragePooling2D(pool_size=(8, 8), strides=(1, 1), padding='valid', name='avg8x8')(x)\n",
        "    x = Flatten(name='flatten')(x)\n",
        "    x = Dense(classes, activation='softmax', name='predictions')(x)\n",
        "    model = models.Model(input, x, name='inception_v1')\n",
        "    return model"
      ],
      "execution_count": 0,
      "outputs": []
    },
    {
      "metadata": {
        "id": "LTzKO7gzVspt",
        "colab_type": "code",
        "colab": {
          "base_uri": "https://localhost:8080/",
          "height": 71
        },
        "outputId": "84cc25e1-2c90-463b-e382-41a114ae4474"
      },
      "cell_type": "code",
      "source": [
        "weight_decay = 5e-4\n",
        "num_classes = 10\n",
        "model = Inception_V1(input_shape=(32, 32, 3), classes=num_classes, weight_decay=weight_decay)\n",
        "#sgd = tf.keras.optimizers.SGD(lr=lr, momentum=0.9, nesterov=False)\n",
        "model.compile(optimizer='adam',\n",
        "              loss='sparse_categorical_crossentropy',\n",
        "              metrics=['accuracy'])"
      ],
      "execution_count": 6,
      "outputs": [
        {
          "output_type": "stream",
          "text": [
            "WARNING:tensorflow:From /usr/local/lib/python3.6/dist-packages/tensorflow/python/ops/resource_variable_ops.py:435: colocate_with (from tensorflow.python.framework.ops) is deprecated and will be removed in a future version.\n",
            "Instructions for updating:\n",
            "Colocations handled automatically by placer.\n"
          ],
          "name": "stdout"
        }
      ]
    },
    {
      "metadata": {
        "id": "YxboI1QokUKH",
        "colab_type": "code",
        "colab": {
          "base_uri": "https://localhost:8080/",
          "height": 1667
        },
        "outputId": "6853314b-a028-4631-aaa1-46101d02da8b"
      },
      "cell_type": "code",
      "source": [
        "datagen = ImageDataGenerator(horizontal_flip=True, \n",
        "                             width_shift_range=0.1, \n",
        "                             height_shift_range=0.1)\n",
        "\n",
        "model.fit_generator(datagen.flow(x_train, y_train, batch_size=128),\n",
        "                    steps_per_epoch=x_train.shape[0] // 128,\n",
        "                    epochs=30,\n",
        "                    verbose=1,\n",
        "                    validation_data=(x_val, y_val))"
      ],
      "execution_count": 7,
      "outputs": [
        {
          "output_type": "stream",
          "text": [
            "Epoch 1/30\n",
            "10000/10000 [==============================] - 23s 2ms/sample - loss: 3.1626 - acc: 0.4355\n",
            "313/313 [==============================] - 353s 1s/step - loss: 4.0405 - acc: 0.4753 - val_loss: 3.1622 - val_acc: 0.4355\n",
            "Epoch 2/30\n",
            "10000/10000 [==============================] - 22s 2ms/sample - loss: 2.4586 - acc: 0.4228\n",
            "313/313 [==============================] - 335s 1s/step - loss: 2.0731 - acc: 0.6410 - val_loss: 2.4595 - val_acc: 0.4228\n",
            "Epoch 3/30\n",
            "10000/10000 [==============================] - 22s 2ms/sample - loss: 1.5028 - acc: 0.6467\n",
            "313/313 [==============================] - 334s 1s/step - loss: 1.4375 - acc: 0.7115 - val_loss: 1.5048 - val_acc: 0.6467\n",
            "Epoch 4/30\n",
            "10000/10000 [==============================] - 22s 2ms/sample - loss: 2.0056 - acc: 0.4796\n",
            "313/313 [==============================] - 335s 1s/step - loss: 1.1829 - acc: 0.7502 - val_loss: 2.0090 - val_acc: 0.4796\n",
            "Epoch 5/30\n",
            "10000/10000 [==============================] - 22s 2ms/sample - loss: 1.3853 - acc: 0.6537\n",
            "313/313 [==============================] - 334s 1s/step - loss: 1.0401 - acc: 0.7749 - val_loss: 1.3872 - val_acc: 0.6537\n",
            "Epoch 6/30\n",
            "10000/10000 [==============================] - 22s 2ms/sample - loss: 2.2445 - acc: 0.4830\n",
            "313/313 [==============================] - 335s 1s/step - loss: 0.9593 - acc: 0.7920 - val_loss: 2.2424 - val_acc: 0.4830\n",
            "Epoch 7/30\n",
            "10000/10000 [==============================] - 22s 2ms/sample - loss: 1.5470 - acc: 0.6225\n",
            "313/313 [==============================] - 334s 1s/step - loss: 0.8980 - acc: 0.8083 - val_loss: 1.5467 - val_acc: 0.6225\n",
            "Epoch 8/30\n",
            "10000/10000 [==============================] - 22s 2ms/sample - loss: 1.1494 - acc: 0.7268\n",
            "313/313 [==============================] - 335s 1s/step - loss: 0.8557 - acc: 0.8175 - val_loss: 1.1499 - val_acc: 0.7268\n",
            "Epoch 9/30\n",
            "10000/10000 [==============================] - 22s 2ms/sample - loss: 1.5164 - acc: 0.5823\n",
            "313/313 [==============================] - 335s 1s/step - loss: 0.8145 - acc: 0.8290 - val_loss: 1.5140 - val_acc: 0.5823\n",
            "Epoch 10/30\n",
            "10000/10000 [==============================] - 22s 2ms/sample - loss: 1.3232 - acc: 0.6919\n",
            "313/313 [==============================] - 335s 1s/step - loss: 0.7882 - acc: 0.8374 - val_loss: 1.3271 - val_acc: 0.6919\n",
            "Epoch 11/30\n",
            "10000/10000 [==============================] - 22s 2ms/sample - loss: 1.6608 - acc: 0.6314\n",
            "313/313 [==============================] - 334s 1s/step - loss: 0.7636 - acc: 0.8431 - val_loss: 1.6702 - val_acc: 0.6314\n",
            "Epoch 12/30\n",
            "10000/10000 [==============================] - 22s 2ms/sample - loss: 1.4242 - acc: 0.6520\n",
            "313/313 [==============================] - 335s 1s/step - loss: 0.7546 - acc: 0.8469 - val_loss: 1.4299 - val_acc: 0.6520\n",
            "Epoch 13/30\n",
            "10000/10000 [==============================] - 22s 2ms/sample - loss: 1.0280 - acc: 0.7472\n",
            "313/313 [==============================] - 335s 1s/step - loss: 0.7346 - acc: 0.8541 - val_loss: 1.0290 - val_acc: 0.7472\n",
            "Epoch 14/30\n",
            "10000/10000 [==============================] - 22s 2ms/sample - loss: 0.9473 - acc: 0.7792\n",
            "313/313 [==============================] - 335s 1s/step - loss: 0.7200 - acc: 0.8575 - val_loss: 0.9538 - val_acc: 0.7792\n",
            "Epoch 15/30\n",
            "10000/10000 [==============================] - 22s 2ms/sample - loss: 1.7806 - acc: 0.5549\n",
            "313/313 [==============================] - 334s 1s/step - loss: 0.6939 - acc: 0.8618 - val_loss: 1.7905 - val_acc: 0.5549\n",
            "Epoch 16/30\n",
            "10000/10000 [==============================] - 22s 2ms/sample - loss: 1.7740 - acc: 0.6220\n",
            "313/313 [==============================] - 335s 1s/step - loss: 0.6760 - acc: 0.8687 - val_loss: 1.7786 - val_acc: 0.6220\n",
            "Epoch 17/30\n",
            "10000/10000 [==============================] - 22s 2ms/sample - loss: 1.0720 - acc: 0.7369\n",
            "313/313 [==============================] - 334s 1s/step - loss: 0.6574 - acc: 0.8718 - val_loss: 1.0759 - val_acc: 0.7369\n",
            "Epoch 18/30\n",
            "10000/10000 [==============================] - 22s 2ms/sample - loss: 1.0761 - acc: 0.7283\n",
            "313/313 [==============================] - 334s 1s/step - loss: 0.6381 - acc: 0.8772 - val_loss: 1.0813 - val_acc: 0.7283\n",
            "Epoch 19/30\n",
            "10000/10000 [==============================] - 22s 2ms/sample - loss: 4.5702 - acc: 0.4043\n",
            "313/313 [==============================] - 333s 1s/step - loss: 0.6276 - acc: 0.8770 - val_loss: 4.5984 - val_acc: 0.4043\n",
            "Epoch 20/30\n",
            "10000/10000 [==============================] - 22s 2ms/sample - loss: 0.8263 - acc: 0.8080\n",
            "313/313 [==============================] - 334s 1s/step - loss: 0.6236 - acc: 0.8814 - val_loss: 0.8280 - val_acc: 0.8080\n",
            "Epoch 21/30\n",
            "10000/10000 [==============================] - 22s 2ms/sample - loss: 1.3287 - acc: 0.6863\n",
            "313/313 [==============================] - 333s 1s/step - loss: 0.5962 - acc: 0.8864 - val_loss: 1.3274 - val_acc: 0.6863\n",
            "Epoch 22/30\n",
            "10000/10000 [==============================] - 22s 2ms/sample - loss: 1.8182 - acc: 0.6157\n",
            "313/313 [==============================] - 334s 1s/step - loss: 0.5862 - acc: 0.8883 - val_loss: 1.8186 - val_acc: 0.6157\n",
            "Epoch 23/30\n",
            "10000/10000 [==============================] - 22s 2ms/sample - loss: 0.9900 - acc: 0.7484\n",
            "313/313 [==============================] - 333s 1s/step - loss: 0.5659 - acc: 0.8927 - val_loss: 0.9966 - val_acc: 0.7484\n",
            "Epoch 24/30\n",
            "10000/10000 [==============================] - 22s 2ms/sample - loss: 1.3641 - acc: 0.7064\n",
            "313/313 [==============================] - 334s 1s/step - loss: 0.5539 - acc: 0.8959 - val_loss: 1.3642 - val_acc: 0.7064\n",
            "Epoch 25/30\n",
            "10000/10000 [==============================] - 22s 2ms/sample - loss: 1.1538 - acc: 0.7021\n",
            "313/313 [==============================] - 332s 1s/step - loss: 0.5448 - acc: 0.8974 - val_loss: 1.1555 - val_acc: 0.7021\n",
            "Epoch 26/30\n",
            "10000/10000 [==============================] - 22s 2ms/sample - loss: 1.5342 - acc: 0.6166\n",
            "313/313 [==============================] - 333s 1s/step - loss: 0.5348 - acc: 0.8999 - val_loss: 1.5370 - val_acc: 0.6166\n",
            "Epoch 27/30\n",
            "10000/10000 [==============================] - 22s 2ms/sample - loss: 0.9146 - acc: 0.7711\n",
            "313/313 [==============================] - 332s 1s/step - loss: 0.5194 - acc: 0.9025 - val_loss: 0.9191 - val_acc: 0.7711\n",
            "Epoch 28/30\n",
            "10000/10000 [==============================] - 22s 2ms/sample - loss: 1.3604 - acc: 0.6692\n",
            "313/313 [==============================] - 333s 1s/step - loss: 0.5157 - acc: 0.9051 - val_loss: 1.3655 - val_acc: 0.6692\n",
            "Epoch 29/30\n",
            "10000/10000 [==============================] - 22s 2ms/sample - loss: 0.9542 - acc: 0.7701\n",
            "313/313 [==============================] - 332s 1s/step - loss: 0.5088 - acc: 0.9080 - val_loss: 0.9560 - val_acc: 0.7701\n",
            "Epoch 30/30\n",
            "10000/10000 [==============================] - 22s 2ms/sample - loss: 0.8394 - acc: 0.7993\n",
            "313/313 [==============================] - 333s 1s/step - loss: 0.4925 - acc: 0.9101 - val_loss: 0.8403 - val_acc: 0.7993\n"
          ],
          "name": "stdout"
        },
        {
          "output_type": "execute_result",
          "data": {
            "text/plain": [
              "<tensorflow.python.keras.callbacks.History at 0x7f7dd5a56208>"
            ]
          },
          "metadata": {
            "tags": []
          },
          "execution_count": 7
        }
      ]
    },
    {
      "metadata": {
        "id": "ZCcnh5QHkaA3",
        "colab_type": "code",
        "colab": {
          "base_uri": "https://localhost:8080/",
          "height": 53
        },
        "outputId": "e66e0ad9-9e09-46ee-ecea-f52dfd02da5d"
      },
      "cell_type": "code",
      "source": [
        "model.evaluate(x_test, y_test)"
      ],
      "execution_count": 8,
      "outputs": [
        {
          "output_type": "stream",
          "text": [
            "10000/10000 [==============================] - 28s 3ms/sample - loss: 0.8730 - acc: 0.7890\n"
          ],
          "name": "stdout"
        },
        {
          "output_type": "execute_result",
          "data": {
            "text/plain": [
              "[0.8729700766563415, 0.789]"
            ]
          },
          "metadata": {
            "tags": []
          },
          "execution_count": 8
        }
      ]
    }
  ]
}